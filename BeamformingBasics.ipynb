{
 "cells": [
  {
   "cell_type": "markdown",
   "id": "4ce19586",
   "metadata": {},
   "source": [
    "# **BeamformingBasics**\n",
    "Basic delay-and-sum beamforming routines in Python for demonstration purposes\n",
    "\n",
    "https://github.com/fchirono/BeamformingBasics\n",
    "\n",
    "This Python package provides some basic functions for creating Uniform Linear Arrays (ULAs) and delay-and-sum beamforming using these arrays. The implementations provided herein are **not** optimized in any form, and instead are meant to be simple to follow.\n",
    "\n",
    "### Author:\n",
    "Fabio Casagrande Hirono - fchirono [at] gmail.com\n",
    "\n",
    "April 2021\n"
   ]
  },
  {
   "cell_type": "markdown",
   "id": "b36e219d",
   "metadata": {},
   "source": [
    "# Beamforming Tutorial\n",
    "\n",
    "Let us use the `BeamformingBasics` package to create a Uniform Linear Array, synthesize some acoustic signals, and apply delay-and-sum beamforming to filter these signals. We begin by cloning the GitHub repo to Google Colab's virtual machine using the commands below:"
   ]
  },
  {
   "cell_type": "code",
   "execution_count": null,
   "id": "46aa7f09",
   "metadata": {},
   "outputs": [],
   "source": [
    "!git clone https://github.com/fchirono/BeamformingBasics.git\n",
    "\n",
    "import sys sys.path.insert(0,'/content/BeamformingBasics')\n"
   ]
  },
  {
   "cell_type": "markdown",
   "id": "f9c25148",
   "metadata": {},
   "source": [
    "Let us now import the usual Python packages for scientific programming: `numpy` for numerical computing, `matplotlib` for plotting, and our own `BeamformingBasics` (imported as `bf`):"
   ]
  },
  {
   "cell_type": "code",
   "execution_count": null,
   "id": "7948cb8b",
   "metadata": {},
   "outputs": [],
   "source": [
    "# package for numeric computing\n",
    "import numpy as np\n",
    "\n",
    "# package for basic plotting\n",
    "from matplotlib import pyplot as plt\n",
    "\n",
    "# package for beamforming basics\n",
    "import BeamformingBasics as bf\n",
    "\n",
    "\n",
    "plt.close('all')\n",
    "\n",
    "save_fig = False\n",
    "\n",
    "# speed of sound\n",
    "c0 = 1500."
   ]
  },
  {
   "cell_type": "markdown",
   "id": "7d80323b",
   "metadata": {},
   "source": [
    "We now define the necessary variables to create a vector `t` of time-domain samples, of duration `T` seconds and sampling frequency `fs` Hz:"
   ]
  },
  {
   "cell_type": "code",
   "execution_count": null,
   "id": "553e0a74",
   "metadata": {},
   "outputs": [],
   "source": [
    "# Create vector of time samples\n",
    "fs = 48e3       # sampling freq [Hz]\n",
    "dt = 1./fs      # temporal resolution [s]\n",
    "T = 0.5           # length of recording [s]\n",
    "\n",
    "N_time = int(T*fs)\n",
    "\n",
    "# vector of time samples\n",
    "t = np.linspace(0, T-dt, N_time)"
   ]
  },
  {
   "cell_type": "markdown",
   "id": "301ee499",
   "metadata": {},
   "source": [
    "To our ULA: the `BeamformingBasics` package allows us to create a ULA by calling the function `bf.SensorArray(L, M)`, where `L` is the array length in meters and `M` is the number of sensors (here we assume `M` is always odd for simplicity). Note that, upon successful creation of our ULA, the function will automatically print the inter-sensor spacing for this array:"
   ]
  },
  {
   "cell_type": "code",
   "execution_count": null,
   "id": "d0f9ca53",
   "metadata": {},
   "outputs": [],
   "source": [
    "# create uniform linear array - try to change these values and see what happens!\n",
    "\n",
    "L = 1.4     # [m]\n",
    "M = 15      \n",
    "\n",
    "MyULA = bf.SensorArray(L, M)"
   ]
  },
  {
   "cell_type": "markdown",
   "id": "492e6e59",
   "metadata": {},
   "source": [
    "Our array definition is stored in the object `MyULA`, and its properties can be explored as shown here:"
   ]
  },
  {
   "cell_type": "code",
   "execution_count": null,
   "id": "f40e8e4b",
   "metadata": {},
   "outputs": [],
   "source": [
    "print(MyULA.M)    # number of elements in array\n",
    "print(MyULA.L)    # array length\n",
    "print(MyULA.d)    # inter-sensor spacing\n",
    "print(MyULA.m)    # vector of indices (from -(M-1)/2 to +(M-1)/2, so m=0 is center element)\n",
    "print(MyULA.XY)   # (2, M)-shaped array containing the (x,y) coordinates of each sensor"
   ]
  },
  {
   "cell_type": "markdown",
   "id": "71d601a9",
   "metadata": {},
   "source": [
    "We will now create the source signal. We will use the function `bf.create_narrowband_pulse` to create a signal with center frequency `f0`, amplitude `a0` and duration `T_pulse`. Let us also check whether our ULA might be subject to spatial aliasing at this specific frequency!"
   ]
  },
  {
   "cell_type": "code",
   "execution_count": null,
   "id": "65d6928f",
   "metadata": {},
   "outputs": [],
   "source": [
    "# define pulse characteristics: amplitude, duration, onset time, center frequency\n",
    "a0 = 1.\n",
    "T_pulse = 0.002      # [s]\n",
    "N_pulse = int(T_pulse*fs)\n",
    "\n",
    "# *-*-*-*-*-*-*-*-*-*-*-*-*-*-*-*-*-*-*-*-*-*-\n",
    "# narrowband pulse center frequency - try other values!\n",
    "f0 = 5000            # [Hz]\n",
    "# *-*-*-*-*-*-*-*-*-*-*-*-*-*-*-*-*-*-*-*-*-*-\n",
    "\n",
    "x_pulse = bf.create_narrowband_pulse(a0, T_pulse, f0, fs)\n",
    "\n",
    "# acoustic wavelength of pulse center freq\n",
    "ac_wavelength = c0/f0\n",
    "\n",
    "print(\"Acoustic wavelength for f0 = {} Hz is {} m\".format(f0, ac_wavelength))\n",
    "\n",
    "# check for spatial aliasing condition\n",
    "if MyULA.d >= ac_wavelength/2:\n",
    "    print('\\tCareful --> Aliasing might occur!')"
   ]
  },
  {
   "cell_type": "markdown",
   "id": "9efbea34",
   "metadata": {},
   "source": [
    "Now, we need to choose one direction of arrival `theta0_deg` for our incoming plane wave containing the narrowband pulse, the onset time for the pulse, and a signal-to-noise ratio (SNR) for the array signals. In order to inspect the resulting data, let us plot the signals for the first, the middle and the last sensors in our array:"
   ]
  },
  {
   "cell_type": "code",
   "execution_count": null,
   "id": "506341b9",
   "metadata": {},
   "outputs": [],
   "source": [
    "# create array of sensor signals from a given direction of arrival\n",
    "\n",
    "# *-*-*-*-*-*-*-*-*-*-*-*-*-*-*-*-*-*-*-*-*-*-*-*-\n",
    "# direction of arrival of narrowband pulse\n",
    "# --> try any value between 0 and 180\n",
    "theta0_deg = 45.\n",
    "\n",
    "# signal-to-noise ratio at array signal\n",
    "# --> 60 dB means almost no noise is present;\n",
    "# -->  0 dB means signal and noise have the same power - will the beamformer even work?\n",
    "SNR_dB = 60\n",
    "# *-*-*-*-*-*-*-*-*-*-*-*-*-*-*-*-*-*-*-*-*-*-*-*-\n",
    "\n",
    "# onset time of narrowband pulse\n",
    "t_initial = 0.3\n",
    "\n",
    "p_array = bf.create_array_signals(MyULA, x_pulse, t_initial, T, theta0_deg, fs,\n",
    "                                  c0, SNR_dB)\n",
    "\n",
    "# plot some array signals\n",
    "plt.figure()\n",
    "\n",
    "m_index = [0, int((M-1)/2), M-1]\n",
    "for m in range(3):\n",
    "    plt.subplot(3, 1, m+1)\n",
    "    \n",
    "    if m == 0:\n",
    "        plt.title('Some array signals')\n",
    "    plt.plot(t, p_array[m_index[m],:], label='m={}'.format(m_index[m]-M//2))\n",
    "    plt.xlim([t_initial, t_initial+2*T_pulse])\n",
    "    plt.legend()\n"
   ]
  },
  {
   "cell_type": "markdown",
   "id": "775ed870",
   "metadata": {},
   "source": [
    "In order to calculate the delay-and-sum beamformer, we need a vector of steering angles `theta` (i.e. \"look directions\") to steer our array towards. Let's define a range of `N_theta` points over the entire [0, 180deg] range. Let us also define our vector of amplitude shading `weights` - just uncomment the one you choose and comment out the others. \n",
    "\n",
    "The actual beamforming calculation is performed via the function `bf.delayandsum_beamformer`, which takes as arguments the object containing the array geometry, the array of sensor signals, the vector of look directions, and the sampling frequency. This function might take a few seconds to run (remember, the code is **not** optimized!). The beamformer function returns a (`N_theta`, `N_time`)-shaped array containing the beamformer output signal y(t) for each look direction theta."
   ]
  },
  {
   "cell_type": "code",
   "execution_count": null,
   "id": "4f2a1f64",
   "metadata": {},
   "outputs": [],
   "source": [
    "# use delay-and-sum beamforming to map direction of arrival\n",
    "\n",
    "N_theta = 181\n",
    "theta = np.linspace(0, np.pi, N_theta)\n",
    "\n",
    "N_DoA = int(theta0_deg)\n",
    "\n",
    "# *-*-*-*-*-*-*-*-*-*-*-*-*-*-*-*-*-*-*-*-*-*-*-*-\n",
    "## array shading schemes - uncomment one\n",
    "weights = np.ones(M)\n",
    "# weights = ss.windows.hann(M)\n",
    "# weights = ss.windows.chebwin(M, 40)\n",
    "# *-*-*-*-*-*-*-*-*-*-*-*-*-*-*-*-*-*-*-*-*-*-*-*-\n",
    "\n",
    "y_beamformer = bf.delayandsum_beamformer(MyULA, p_array, theta, weights, fs)"
   ]
  },
  {
   "cell_type": "markdown",
   "id": "34283382",
   "metadata": {},
   "source": [
    "We now plot the beamformer output y(theta, t) for a few candidate steering directions. If the steering direction matches the direction of arrival `theta0` of the plane wave, you should see a large amplitude narrowband pulse; otherwise, expect to see small amplitudes - or even zero.\n",
    "\n",
    "It is very interesting to compare the beamformer output y(t) to the signal captured by the center sensor p0(t). The second figure was created so that it superimposes the center sensor signal to the beamformer output when the steering direction matches the plane wave DoA; note how the beamformer output has significantly less noise than the single sensor!"
   ]
  },
  {
   "cell_type": "code",
   "execution_count": null,
   "id": "cccbe3a0",
   "metadata": {},
   "outputs": [],
   "source": [
    "# plot beamformer output for different steering directions\n",
    "plt.figure()\n",
    "plt.plot(t, y_beamformer[0, :], label='0 deg')\n",
    "plt.plot(t, y_beamformer[45, :], '--', label='45 deg')\n",
    "plt.plot(t, y_beamformer[90, :], ':', label='90 deg')\n",
    "plt.xlim([t_initial, t_initial+2*T_pulse])\n",
    "plt.legend()\n",
    "plt.title('Beamformer output for different look directions')\n",
    "\n",
    "\n",
    "# compare beamformer output to center sensor signal\n",
    "plt.figure()\n",
    "plt.plot(t, p_array[M//2, :], label='center sensor')\n",
    "plt.plot(t, y_beamformer[N_DoA, :], ':', label='beamf output', color='C3')\n",
    "plt.xlim([t_initial, t_initial+2*T_pulse])\n",
    "plt.legend()\n",
    "plt.title('Center sensor vs. beamformer output')\n"
   ]
  },
  {
   "cell_type": "markdown",
   "id": "1c6f888e",
   "metadata": {},
   "source": [
    "Finally, let us look into the polar response of the beamformer. For convenience, we'll also indicate the plane wave direction of arrival with a red arrow.\n",
    "\n",
    "The polar plot restricts the minimum magnitude below the peak through the variable `dyn_range`. Certain beamformer configurations can lead to the sidelobes disappearing from the image (for example, when the array shading scheme significantly reduces their amplitude), while others can lead to an almost uniform angular response, with a very small main lobe value (for example, when the SNR is low). Make sure to increase or decrease `dyn_range` accordingly."
   ]
  },
  {
   "cell_type": "code",
   "execution_count": null,
   "id": "45a64843",
   "metadata": {},
   "outputs": [],
   "source": [
    "# beamformer polar plot\n",
    "\n",
    "y_beamf_polar = np.sum(y_beamformer**2, axis=1)\n",
    "\n",
    "y_beamf_polar_dB = 10*np.log10(y_beamf_polar)\n",
    "dB_max = y_beamf_polar_dB.max()\n",
    "\n",
    "# *-*-*-*-*-*-*-*-*-*-*-*-*-*-*-*-*-*-*-*-*-*-*-*-\n",
    "# Polar plot dynamic range\n",
    "dyn_range = 25      # dB\n",
    "# *-*-*-*-*-*-*-*-*-*-*-*-*-*-*-*-*-*-*-*-*-*-*-*-\n",
    "\n",
    "fig = plt.figure()\n",
    "ax = fig.add_subplot(111, polar=True)\n",
    "ax.plot(theta, y_beamf_polar_dB)\n",
    "\n",
    "# add arrow indicating direction of arrival of signal\n",
    "ax.arrow(theta0_deg*np.pi/180, dB_max-dyn_range, 0, dyn_range, width=0.01,\n",
    "         head_width=0.1, head_length=5,\n",
    "         length_includes_head=True, edgecolor = 'red', facecolor = 'red')\n",
    "\n",
    "ax.set_rmax(dB_max)\n",
    "ax.set_rmin(dB_max - dyn_range)\n",
    "\n",
    "ax.set_thetamin(0)\n",
    "ax.set_thetamax(180)\n",
    "fig.set_tight_layout(True)\n"
   ]
  },
  {
   "cell_type": "code",
   "execution_count": null,
   "id": "9df39011",
   "metadata": {},
   "outputs": [],
   "source": []
  }
 ],
 "metadata": {
  "kernelspec": {
   "display_name": "Python 3",
   "language": "python",
   "name": "python3"
  },
  "language_info": {
   "codemirror_mode": {
    "name": "ipython",
    "version": 3
   },
   "file_extension": ".py",
   "mimetype": "text/x-python",
   "name": "python",
   "nbconvert_exporter": "python",
   "pygments_lexer": "ipython3",
   "version": "3.7.10"
  }
 },
 "nbformat": 4,
 "nbformat_minor": 5
}
