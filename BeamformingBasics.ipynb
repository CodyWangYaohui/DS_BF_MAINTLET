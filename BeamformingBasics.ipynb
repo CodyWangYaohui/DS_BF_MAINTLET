{
 "cells": [
  {
   "cell_type": "code",
   "execution_count": 1,
   "id": "c4d20b0f",
   "metadata": {},
   "outputs": [],
   "source": [
    "# package for numeric computing\n",
    "import numpy as np\n",
    "\n",
    "# package for basic plotting\n",
    "from matplotlib import pyplot as plt\n",
    "\n",
    "# package for beamforming basics\n",
    "import BeamformingBasics as bf\n",
    "\n",
    "\n",
    "plt.close('all')\n",
    "\n",
    "save_fig = False"
   ]
  },
  {
   "cell_type": "code",
   "execution_count": 2,
   "id": "e545bd2a",
   "metadata": {},
   "outputs": [],
   "source": [
    "# Create vector of time samples\n",
    "fs = 48e3       # sampling freq [Hz]\n",
    "dt = 1./fs      # temporal resolution [s]\n",
    "T = 0.5           # length of recording [s]\n",
    "\n",
    "N_time = int(T*fs)\n",
    "\n",
    "# vector of time samples\n",
    "t = np.linspace(0, T-dt, N_time)"
   ]
  },
  {
   "cell_type": "code",
   "execution_count": 3,
   "id": "3f1621db",
   "metadata": {},
   "outputs": [
    {
     "name": "stdout",
     "output_type": "stream",
     "text": [
      "Array inter sensor spacing is 0.09999999999999999 m\n"
     ]
    }
   ],
   "source": [
    "# create uniform linear array\n",
    "\n",
    "L = 1.4     # [m]\n",
    "M = 15      \n",
    "\n",
    "MyULA = bf.SensorArray(L, M)"
   ]
  },
  {
   "cell_type": "code",
   "execution_count": 4,
   "id": "8537a990",
   "metadata": {},
   "outputs": [
    {
     "name": "stdout",
     "output_type": "stream",
     "text": [
      "Acoustic wavelength for f0 = 5000 Hz is 0.3 m\n"
     ]
    }
   ],
   "source": [
    "# define pulse characteristics: amplitude, center freq, duration, onset time\n",
    "a0 = 1.\n",
    "f0 = 5000            # [Hz]\n",
    "T_pulse = 0.002      # [s]\n",
    "N_pulse = int(T_pulse*fs)\n",
    "\n",
    "x_pulse = bf.create_narrowband_pulse(a0, T_pulse, f0, fs)\n",
    "\n",
    "# onset time\n",
    "t_initial = 0.3\n",
    "\n",
    "# speed of sound\n",
    "c0 = 1500.\n",
    "\n",
    "# acoustic wavelength of pulse center freq\n",
    "ac_wavelength = c0/f0\n",
    "\n",
    "print(\"Acoustic wavelength for f0 = {} Hz is {} m\".format(f0, ac_wavelength))\n",
    "\n",
    "if MyULA.d >= ac_wavelength/2:\n",
    "    print('\\tCareful --> Aliasing might occur!')"
   ]
  },
  {
   "cell_type": "code",
   "execution_count": 5,
   "id": "767ae746",
   "metadata": {},
   "outputs": [
    {
     "name": "stderr",
     "output_type": "stream",
     "text": [
      "__main__:14: MatplotlibDeprecationWarning: Adding an axes using the same arguments as a previous axes currently reuses the earlier instance.  In a future version, a new instance will always be created and returned.  Meanwhile, this warning can be suppressed, and the future behavior ensured, by passing a unique label to each axes instance.\n"
     ]
    },
    {
     "data": {
      "text/plain": [
       "Text(0.5, 1.0, 'Some array signals')"
      ]
     },
     "execution_count": 5,
     "metadata": {},
     "output_type": "execute_result"
    }
   ],
   "source": [
    "# create array of sensor signals from a given direction of arrival\n",
    "    \n",
    "theta0_deg = 45.\n",
    "p_array = bf.create_array_signals(MyULA, x_pulse, t_initial, T, theta0_deg, fs,\n",
    "                                  c0, SNR_dB=60)\n",
    "\n",
    "# plot some array signals\n",
    "plt.figure()\n",
    "for m in range(3):\n",
    "    plt.subplot(3, 1, m+1)\n",
    "    plt.plot(t, p_array[m + MyULA.M//2,:])\n",
    "    plt.xlim([t_initial, t_initial+2*T_pulse])\n",
    "\n",
    "plt.subplot(3, 1, 1)\n",
    "plt.title('Some array signals')\n"
   ]
  },
  {
   "cell_type": "code",
   "execution_count": null,
   "id": "9972f2fa",
   "metadata": {},
   "outputs": [],
   "source": [
    "# use delay-and-sum beamforming to map direction of arrival\n",
    "\n",
    "N_theta = 181\n",
    "theta = np.linspace(0, np.pi, N_theta)\n",
    "\n",
    "weights = np.ones(M)\n",
    "\n",
    "y_beamformer = bf.delayandsum_beamformer(MyULA, p_array, theta, weights, fs)"
   ]
  },
  {
   "cell_type": "code",
   "execution_count": null,
   "id": "ae854df6",
   "metadata": {},
   "outputs": [],
   "source": [
    "# plot beamformer output for different steering directions\n",
    "plt.figure()\n",
    "plt.plot(t, y_beamformer[0, :], label='0 deg')\n",
    "plt.plot(t, y_beamformer[45, :], '--', label='45 deg')\n",
    "plt.plot(t, y_beamformer[90, :], ':', label='90 deg')\n",
    "plt.xlim([t_initial, t_initial+2*T_pulse])\n",
    "plt.legend()\n",
    "plt.title('Beamformer output for different look directions')\n",
    "\n",
    "\n",
    "# compare beamformer output to center sensor signal\n",
    "plt.figure()\n",
    "plt.plot(t, p_array[M//2, :], label='center sensor')\n",
    "plt.plot(t, y_beamformer[45, :], ':', label='beamf output', color='C3')\n",
    "plt.xlim([t_initial, t_initial+2*T_pulse])\n",
    "plt.legend()\n",
    "plt.title('Center sensor vs. beamformer output')\n"
   ]
  },
  {
   "cell_type": "code",
   "execution_count": null,
   "id": "c6174eaa",
   "metadata": {},
   "outputs": [],
   "source": [
    "# beamformer polar plot\n",
    "\n",
    "y_beamf_polar = np.sum(y_beamformer**2, axis=1)\n",
    "\n",
    "y_beamf_polar_dB = 10*np.log10(y_beamf_polar)\n",
    "dB_max = y_beamf_polar_dB.max()\n",
    "dyn_range = 25      # dB\n",
    "\n",
    "\n",
    "fig = plt.figure()\n",
    "ax = fig.add_subplot(111, polar=True)\n",
    "ax.plot(theta, y_beamf_polar_dB)\n",
    "\n",
    "# add arrow indicating direction of arrival of signal\n",
    "ax.arrow(theta0_deg*np.pi/180, dB_max-dyn_range, 0, dyn_range, width=0.01,\n",
    "         head_width=0.1, head_length=5,\n",
    "         length_includes_head=True, edgecolor = 'red', facecolor = 'red')\n",
    "\n",
    "\n",
    "ax.set_rmax(dB_max)\n",
    "ax.set_rmin(dB_max - dyn_range)\n",
    "\n",
    "ax.set_thetamin(0)\n",
    "ax.set_thetamax(180)\n",
    "fig.set_tight_layout(True)\n"
   ]
  }
 ],
 "metadata": {
  "kernelspec": {
   "display_name": "Python 3 (Spyder)",
   "language": "python3",
   "name": "python3"
  },
  "language_info": {
   "codemirror_mode": {
    "name": "ipython",
    "version": 3
   },
   "file_extension": ".py",
   "mimetype": "text/x-python",
   "name": "python",
   "nbconvert_exporter": "python",
   "pygments_lexer": "ipython3",
   "version": "3.7.10"
  }
 },
 "nbformat": 4,
 "nbformat_minor": 5
}
