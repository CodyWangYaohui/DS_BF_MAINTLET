{
 "cells": [
  {
   "cell_type": "markdown",
   "id": "4ce19586",
   "metadata": {},
   "source": [
    "# **BeamformingBasics**\n",
    "Basic delay-and-sum beamforming routines in Python for demonstration purposes\n",
    "\n",
    "https://github.com/fchirono/BeamformingBasics\n",
    "\n",
    "This Python package provides some basic functions for creating Uniform Linear Arrays (ULAs) and delay-and-sum beamforming using these arrays. The implementations provided herein are **not** optimized in any form, and instead are meant to illustrate some basic principles.\n",
    "\n",
    "### Author:\n",
    "Fabio Casagrande Hirono - fchirono [at] gmail.com\n",
    "\n",
    "April 2021\n"
   ]
  },
  {
   "cell_type": "markdown",
   "id": "b36e219d",
   "metadata": {},
   "source": [
    "# Beamforming Tutorial\n",
    "\n",
    "Let us use the `BeamformingBasics` package to create a Uniform Linear Array, synthesize some acoustic signals, and apply delay-and-sum beamforming to these signals. We encourage you to play around with this code and change some variables; the ones we recommend you to try and change are positioned within blocks of comments that look like `*-*-*-*-`, but feel free to play around with any other part of the code.\n",
    "\n",
    "To run this iPython Notebook, click on a block of code and press `CTRL+Enter` to run the block. Alternatively, hover the mouse cursor near the two square brackets to the left of the block (`[ ]`) until they transform into a \"play\" button, and click on the button. The code will run, and any output will be displayed immediately below it.\n",
    "\n",
    "We begin by cloning the Python package from its GitHub repo to Google Colab's virtual machine using the commands below. If you would like to try it on your own machine, it's probably easier to just download the package directly from GitHub."
   ]
  },
  {
   "cell_type": "code",
   "execution_count": null,
   "id": "46aa7f09",
   "metadata": {},
   "outputs": [],
   "source": [
    "!git clone https://github.com/fchirono/BeamformingBasics.git\n",
    "\n",
    "import sys sys.path.insert(0,'/content/BeamformingBasics')\n"
   ]
  },
  {
   "cell_type": "markdown",
   "id": "f9c25148",
   "metadata": {},
   "source": [
    "Let us now import the usual Python packages for scientific programming: `numpy` for numerical computing, `matplotlib` for plotting, and our own `BeamformingBasics` (imported as `bf`), and define our constant `c0` for the speed of sound:"
   ]
  },
  {
   "cell_type": "code",
   "execution_count": null,
   "id": "7948cb8b",
   "metadata": {},
   "outputs": [],
   "source": [
    "# package for numeric computing\n",
    "import numpy as np\n",
    "\n",
    "# package for basic plotting\n",
    "from matplotlib import pyplot as plt\n",
    "\n",
    "# package for beamforming basics\n",
    "import BeamformingBasics as bf\n",
    "\n",
    "\n",
    "# speed of sound\n",
    "c0 = 1500."
   ]
  },
  {
   "cell_type": "markdown",
   "id": "7d80323b",
   "metadata": {},
   "source": [
    "We now define the necessary variables to create a vector `t` of time-domain samples, of duration `T` seconds and sampling frequency `fs` Hz:"
   ]
  },
  {
   "cell_type": "code",
   "execution_count": null,
   "id": "553e0a74",
   "metadata": {},
   "outputs": [],
   "source": [
    "# Create vector of time samples\n",
    "fs = 48e3       # sampling freq [Hz]\n",
    "dt = 1./fs      # temporal resolution [s]\n",
    "T = 0.5           # length of recording [s]\n",
    "\n",
    "N_time = int(T*fs)\n",
    "\n",
    "# vector of time samples\n",
    "t = np.linspace(0, T-dt, N_time)"
   ]
  },
  {
   "cell_type": "markdown",
   "id": "301ee499",
   "metadata": {},
   "source": [
    "Onwards to our Uniform Linear Array: the `BeamformingBasics` package allows us to create a ULA by calling the function `bf.SensorArray(L, M)`, where `L` is the array length in meters and `M` is the number of sensors (here we assume `M` is always odd for simplicity). Note that, upon successful creation of our ULA, the function will automatically print the inter-sensor spacing for this array:"
   ]
  },
  {
   "cell_type": "code",
   "execution_count": null,
   "id": "d0f9ca53",
   "metadata": {},
   "outputs": [],
   "source": [
    "# create uniform linear array - try to change these values and see what happens!\n",
    "\n",
    "# *-*-*-*-*-*-*-*-*-*-*-*-*-*-*-*-*-*-*-*-*-*-*-*-\n",
    "# Array length [m]\n",
    "\n",
    "L = 1.4     \n",
    "# *-*-*-*-*-*-*-*-*-*-*-*-*-*-*-*-*-*-*-*-*-*-*-*-\n",
    "# Number of sensors in array (must be odd!)\n",
    "\n",
    "M = 15      \n",
    "# *-*-*-*-*-*-*-*-*-*-*-*-*-*-*-*-*-*-*-*-*-*-*-*-\n",
    "MyULA = bf.SensorArray(L, M)"
   ]
  },
  {
   "cell_type": "markdown",
   "id": "492e6e59",
   "metadata": {},
   "source": [
    "Our array definition is stored in the object `MyULA`, and its properties can be explored by accessing its attributes (i.e. \"data\") as shown here:"
   ]
  },
  {
   "cell_type": "code",
   "execution_count": null,
   "id": "f40e8e4b",
   "metadata": {},
   "outputs": [],
   "source": [
    "print(MyULA.M)    # number of elements in array\n",
    "print(MyULA.L)    # array length\n",
    "print(MyULA.d)    # inter-sensor spacing\n",
    "print(MyULA.m)    # vector of indices (from -(M-1)/2 to +(M-1)/2, so m=0 is center element)\n",
    "print(MyULA.XY)   # (2, M)-shaped array containing the (x,y) coordinates of each sensor"
   ]
  },
  {
   "cell_type": "markdown",
   "id": "71d601a9",
   "metadata": {},
   "source": [
    "We will now create the source signal. We will use the function `bf.create_narrowband_pulse` to create a signal with center frequency `f0`, amplitude `a0` and duration `T_pulse`. Let us also check whether our ULA might be subject to spatial aliasing at this frequency!"
   ]
  },
  {
   "cell_type": "code",
   "execution_count": null,
   "id": "65d6928f",
   "metadata": {},
   "outputs": [],
   "source": [
    "# define pulse characteristics: amplitude, duration, onset time, center frequency\n",
    "a0 = 1.\n",
    "T_pulse = 0.002      # [s]\n",
    "N_pulse = int(T_pulse*fs)\n",
    "\n",
    "# *-*-*-*-*-*-*-*-*-*-*-*-*-*-*-*-*-*-*-*-*-*-\n",
    "# narrowband pulse center frequency - try other values!\n",
    "\n",
    "f0 = 5000            # [Hz]\n",
    "# *-*-*-*-*-*-*-*-*-*-*-*-*-*-*-*-*-*-*-*-*-*-\n",
    "\n",
    "x_pulse = bf.create_narrowband_pulse(a0, T_pulse, f0, fs)\n",
    "\n",
    "# acoustic wavelength of pulse center freq\n",
    "ac_wavelength = c0/f0\n",
    "\n",
    "print(\"Acoustic wavelength for f0 = {} Hz is {} m\".format(f0, ac_wavelength))\n",
    "\n",
    "# check for spatial aliasing condition\n",
    "if MyULA.d >= ac_wavelength/2:\n",
    "    print('\\tCareful --> Aliasing might occur!')"
   ]
  },
  {
   "cell_type": "markdown",
   "id": "9efbea34",
   "metadata": {},
   "source": [
    "Now, we need to choose one direction of arrival `theta0_deg` for our incoming plane wave containing the narrowband pulse, the onset time `t_initial` for the pulse, and a signal-to-noise ratio (SNR) in decibels for the array signals. In order to inspect the resulting data, let us plot the signals for the first, the middle and the last sensors in our array:"
   ]
  },
  {
   "cell_type": "code",
   "execution_count": null,
   "id": "506341b9",
   "metadata": {},
   "outputs": [],
   "source": [
    "# create array of sensor signals from a given direction of arrival\n",
    "\n",
    "# *-*-*-*-*-*-*-*-*-*-*-*-*-*-*-*-*-*-*-*-*-*-*-*-\n",
    "# direction of arrival of narrowband pulse, in degrees\n",
    "# --> try any value between 0 and 180\n",
    "\n",
    "theta0_deg = 45.\n",
    "# *-*-*-*-*-*-*-*-*-*-*-*-*-*-*-*-*-*-*-*-*-*-*-*-\n",
    "# signal-to-noise ratio at array signal\n",
    "# --> 'None' means no noise is present\n",
    "# --> 60 dB means very little noise is present\n",
    "# -->  0 dB means signal and noise have the same power - will the beamformer even work?\n",
    "\n",
    "SNR_dB = 60\n",
    "# *-*-*-*-*-*-*-*-*-*-*-*-*-*-*-*-*-*-*-*-*-*-*-*-\n",
    "\n",
    "# onset time of narrowband pulse\n",
    "t_initial = 0.3\n",
    "\n",
    "p_array = bf.create_array_signals(MyULA, x_pulse, t_initial, T, theta0_deg, fs,\n",
    "                                  c0, SNR_dB)\n",
    "\n",
    "# plot first, middle and last array signals\n",
    "plt.figure()\n",
    "m_index = [0, int((M-1)/2), M-1]\n",
    "for m in range(3):\n",
    "    plt.subplot(3, 1, m+1)\n",
    "    \n",
    "    if m == 0:\n",
    "        plt.title('Some array signals')\n",
    "    plt.plot(t, p_array[m_index[m],:], label='m={}'.format(m_index[m]-M//2))\n",
    "    plt.xlim([t_initial, t_initial+2*T_pulse])\n",
    "    plt.legend()\n"
   ]
  },
  {
   "cell_type": "markdown",
   "id": "95de5f67",
   "metadata": {},
   "source": [
    "For a visual reference, let us plot a plane wave acoustic field at the same frequency and direction of arrival as the narrowband pulse created above."
   ]
  },
  {
   "cell_type": "code",
   "execution_count": null,
   "id": "0fbcf44a",
   "metadata": {},
   "outputs": [],
   "source": [
    "# Create 2D mesh of (x, y) points\n",
    "mesh_side1 = np.linspace(-0.7*L, 0.7*L, 1400)\n",
    "mesh_side2 = np.linspace(-0.475*L, 0.475*L, 950)\n",
    "XY_mesh = np.array(np.meshgrid(mesh_side1, mesh_side2))\n",
    "\n",
    "XY_mesh[1] += 0.4*L\n",
    "\n",
    "# create acoustic wavenumber vector, pointint at the DIRECTION OF PROPAGATION\n",
    "# of the plane wave (opposite to the DIRECTION OF ARRIVAL!)\n",
    "k0 = 2*np.pi/ac_wavelength\n",
    "theta0 = theta0_deg*np.pi/180.\n",
    "k_vec = k0*np.array([-np.cos(theta0), -np.sin(theta0)])\n",
    "\n",
    "# create plane wave acoustic field\n",
    "p_planewave = np.exp(-1j*np.tensordot(k_vec, XY_mesh, axes=(0,0)))\n",
    "\n",
    "# plot acoustic field and array positions\n",
    "fig = plt.figure(figsize=(7, 5))\n",
    "ax = fig.add_subplot(111)\n",
    "ax.pcolormesh(XY_mesh[0], XY_mesh[1], p_planewave.real, cmap='seismic',\n",
    "              shading='nearest', vmin=-5, vmax=+5)\n",
    "ax.plot(MyULA.XY[0], MyULA.XY[1], 'ko')\n",
    "ax.set_xlabel(r'$x$', fontsize=15)\n",
    "ax.set_xticks(ticks=np.array([-0.5, 0., 0.5])*L)\n",
    "ax.set_xticklabels([r'$-\\frac{L}{2}$', r'$0$', r'$+\\frac{L}{2}$'],\n",
    "                   fontsize=12)\n",
    "ax.set_ylabel(r'$y$', fontsize=15)\n",
    "ax.set_yticks(ticks=np.array([0., 0.5])*L)\n",
    "ax.set_yticklabels([r'$0$', r'$+\\frac{L}{2}$'], fontsize=12)\n",
    "ax.axis('equal')\n",
    "\n",
    "# indicate direction of propagation of plane wave with a red arrow\n",
    "ax.arrow(0.65*L*np.cos(theta0), 0.65*L*np.sin(theta0),\n",
    "         -0.1*L*np.cos(theta0), -0.1*L*np.sin(theta0),\n",
    "         width=0.01*L, head_width=0.05*L, head_length=0.04*L,\n",
    "         length_includes_head=True, edgecolor = 'k', facecolor = 'r')\n"
   ]
  },
  {
   "cell_type": "markdown",
   "id": "775ed870",
   "metadata": {},
   "source": [
    "In order to calculate the delay-and-sum beamformer, we need a vector of steering angles `theta` (i.e. \"look directions\") to steer our array towards. Let's define a range of `N_theta` points covering the entire [0, 180] degrees range. Let us also define our vector of amplitude shading `weights` - just uncomment the one you choose and comment out the others using a hash `#`. \n",
    "\n",
    "The actual beamforming calculation is performed via the function `bf.delayandsum_beamformer`, which takes as arguments the object containing the ULA geometry, the sensor signals, the vector of look directions, and the sampling frequency. This function might take a few seconds to run (remember, the code is **not** optimized!). The beamformer function returns a (`N_theta`, `N_time`)-shaped array containing the beamformer output signal y(t) for each look direction theta."
   ]
  },
  {
   "cell_type": "code",
   "execution_count": null,
   "id": "4f2a1f64",
   "metadata": {},
   "outputs": [],
   "source": [
    "# use delay-and-sum beamforming to map direction of arrival\n",
    "\n",
    "N_theta = 181\n",
    "theta = np.linspace(0, np.pi, N_theta)\n",
    "\n",
    "N_DoA = int(theta0_deg)\n",
    "\n",
    "# *-*-*-*-*-*-*-*-*-*-*-*-*-*-*-*-*-*-*-*-*-*-*-*-\n",
    "## array shading schemes - uncomment one\n",
    "\n",
    "weights = np.ones(M)\n",
    "# weights = ss.windows.hann(M)\n",
    "# weights = ss.windows.chebwin(M, 40)\n",
    "# *-*-*-*-*-*-*-*-*-*-*-*-*-*-*-*-*-*-*-*-*-*-*-*-\n",
    "\n",
    "y_beamformer = bf.delayandsum_beamformer(MyULA, p_array, theta, weights, fs)"
   ]
  },
  {
   "cell_type": "markdown",
   "id": "34283382",
   "metadata": {},
   "source": [
    "We now plot the beamformer output y(theta, t) for a few candidate steering directions - say, 0 deg, 45 deg and 90 deg. If the steering direction matches the direction of arrival `theta0` of the plane wave, you should see a large amplitude pulse; otherwise, destructive interference between the misaligned sensor signals will yield a low amplitude result - or perhaps even zero!\n",
    "\n",
    "It is very interesting to compare the beamformer output y(t) to the signal captured by the center sensor p0(t). The second figure was created so that it superimposes the center sensor signal to the beamformer output when the steering direction matches the plane wave DoA. Note how the beamformer output has significantly less noise than the single sensor."
   ]
  },
  {
   "cell_type": "code",
   "execution_count": null,
   "id": "cccbe3a0",
   "metadata": {},
   "outputs": [],
   "source": [
    "# plot beamformer output for different steering directions\n",
    "plt.figure()\n",
    "plt.plot(t, y_beamformer[0, :], label='0 deg')\n",
    "plt.plot(t, y_beamformer[45, :], '--', label='45 deg')\n",
    "plt.plot(t, y_beamformer[90, :], ':', label='90 deg')\n",
    "plt.xlim([t_initial, t_initial+2*T_pulse])\n",
    "plt.legend()\n",
    "plt.title('Beamformer output for different look directions')\n",
    "\n",
    "\n",
    "# compare beamformer output to center sensor signal\n",
    "plt.figure()\n",
    "plt.plot(t, p_array[M//2, :], label='center sensor')\n",
    "plt.plot(t, y_beamformer[N_DoA, :], ':', label='beamf output', color='C3')\n",
    "plt.xlim([t_initial, t_initial+2*T_pulse])\n",
    "plt.legend()\n",
    "plt.title('Center sensor vs. beamformer output')\n"
   ]
  },
  {
   "cell_type": "markdown",
   "id": "1c6f888e",
   "metadata": {},
   "source": [
    "Finally, let us look into the polar response of the beamformer. For convenience, we'll also indicate the plane wave direction of arrival with a red arrow.\n",
    "\n",
    "The polar plot restricts the minimum magnitude below the peak through the variable `dyn_range`. Certain beamformer configurations can lead to the sidelobes disappearing from the image (for example, when the array shading scheme significantly reduces their amplitude), while others can lead to an almost uniform angular response, with a very small main lobe value (for example, when the SNR is low). Make sure to increase or decrease `dyn_range` accordingly."
   ]
  },
  {
   "cell_type": "code",
   "execution_count": null,
   "id": "45a64843",
   "metadata": {},
   "outputs": [],
   "source": [
    "# Create beamformer polar plot\n",
    "\n",
    "y_beamf_polar = np.sum(y_beamformer**2, axis=1)\n",
    "\n",
    "y_beamf_polar_dB = 10*np.log10(y_beamf_polar)\n",
    "dB_max = y_beamf_polar_dB.max()\n",
    "\n",
    "# *-*-*-*-*-*-*-*-*-*-*-*-*-*-*-*-*-*-*-*-*-*-*-*-\n",
    "# Polar plot dynamic range\n",
    "\n",
    "dyn_range = 25      # dB\n",
    "# *-*-*-*-*-*-*-*-*-*-*-*-*-*-*-*-*-*-*-*-*-*-*-*-\n",
    "\n",
    "fig = plt.figure()\n",
    "ax = fig.add_subplot(111, polar=True)\n",
    "ax.plot(theta, y_beamf_polar_dB)\n",
    "\n",
    "# add arrow indicating direction of arrival of signal\n",
    "ax.arrow(theta0_deg*np.pi/180, dB_max-dyn_range, 0, dyn_range, width=0.01,\n",
    "         head_width=0.1, head_length=5,\n",
    "         length_includes_head=True, edgecolor = 'red', facecolor = 'red')\n",
    "\n",
    "ax.set_rmax(dB_max)\n",
    "ax.set_rmin(dB_max - dyn_range)\n",
    "\n",
    "ax.set_thetamin(0)\n",
    "ax.set_thetamax(180)\n",
    "fig.set_tight_layout(True)\n"
   ]
  },
  {
   "cell_type": "markdown",
   "id": "83feec04",
   "metadata": {},
   "source": [
    "And that's it for today! I hope you had fun and learned something :)\n",
    "\n",
    "All the best,\n",
    "\n",
    "Fabio\n"
   ]
  }
 ],
 "metadata": {
  "kernelspec": {
   "display_name": "Python 3",
   "language": "python",
   "name": "python3"
  },
  "language_info": {
   "codemirror_mode": {
    "name": "ipython",
    "version": 3
   },
   "file_extension": ".py",
   "mimetype": "text/x-python",
   "name": "python",
   "nbconvert_exporter": "python",
   "pygments_lexer": "ipython3",
   "version": "3.7.10"
  }
 },
 "nbformat": 4,
 "nbformat_minor": 5
}
