{
 "cells": [
  {
   "cell_type": "markdown",
   "id": "bd0b793c",
   "metadata": {},
   "source": [
    "# **BeamformingBasics**\n",
    "Basic delay-and-sum beamforming routines in Python for demonstration purposes\n",
    "\n",
    "https://urldefense.com/v3/__https://github.com/fchirono/BeamformingBasics*5Cn__;JQ!!DZ3fjg!5454Nl4dPH5781V18td6l6M92jdrYpGoIRY7ytwlwedT4RHnjSUatF4y5TCPPaJFWi7dM2yxk8kzu4rK6jNIymIPJfE$ \n",
    "\n",
    "This Python package provides some basic functions for creating Uniform Linear Arrays (ULAs) and delay-and-sum beamforming using these arrays. The implementations provided herein are **not** optimized in any form, and instead are meant to illustrate some basic principles.\n",
    "\n",
    "### Author:\n",
    "Fabio Casagrande Hirono - fchirono [at] gmail.com\n",
    "\n",
    "April 2021\n",
    "\n",
    "Beitong Tian - beitong2 [at] illinois.edu\n",
    "\n",
    "Cody Wang - yaohuiw2 [at] illinois.edu\n",
    "\n",
    "May 2022"
   ]
  },
  {
   "cell_type": "markdown",
   "id": "904f4764",
   "metadata": {},
   "source": [
    "# Beamforming Tutorial\n",
    "\n",
    "Let us use the `BeamformingBasics` package to create a Uniform Linear Array, synthesize some acoustic signals, and apply delay-and-sum beamforming to these signals. We encourage you to play around with this code and change some variables; the ones we recommend you to try and change are positioned within blocks of comments that look like `*-*-*-*-`, but feel free to play around with any other part of the code.\n",
    "\n",
    "To run this iPython Notebook, click on a block of code and press `CTRL+Enter` to run the block. Alternatively, hover the mouse cursor near the two square brackets to the left of the block (`[ ]`) until they transform into a \"play\" button, and click on the button. The code will run, and any output will be displayed immediately below it.\n",
    "\n",
    "We begin by cloning the Python package from its GitHub repo to Google Colab's virtual machine using the commands below. If you would like to try it on your own machine, it's probably easier to just download the package directly from GitHub."
   ]
  },
  {
   "cell_type": "code",
   "execution_count": 2,
   "id": "57d2d457",
   "metadata": {},
   "outputs": [
    {
     "name": "stdout",
     "output_type": "stream",
     "text": [
      "zsh:1: no matches found: https://urldefense.com/v3/__https://github.com/fchirono/BeamformingBasics.git*5Cn__\n",
      "zsh:1: command not found: JQ!!DZ3fjg!5454Nl4dPH5781V18td6l6M92jdrYpGoIRY7ytwlwedT4RHnjSUatF4y5TCPPaJFWi7dM2yxk8kzu4rK6jNI0YwljyM$\n"
     ]
    }
   ],
   "source": [
    "!git clone https://urldefense.com/v3/__https://github.com/fchirono/BeamformingBasics.git*5Cn__;JQ!!DZ3fjg!5454Nl4dPH5781V18td6l6M92jdrYpGoIRY7ytwlwedT4RHnjSUatF4y5TCPPaJFWi7dM2yxk8kzu4rK6jNI0YwljyM$ \n",
    "\n",
    "import sys\n",
    "sys.path.insert(0,'/content/BeamformingBasics')\n",
    "\n"
   ]
  },
  {
   "cell_type": "markdown",
   "id": "f62d527e",
   "metadata": {},
   "source": [
    "Let us now import the usual Python packages for scientific programming: `numpy` for numerical computing, `matplotlib` for plotting, and our own `BeamformingBasics` (imported as `bf`), and define our constant `c0` for the speed of sound:"
   ]
  },
  {
   "cell_type": "code",
   "execution_count": 42,
   "id": "0e86812c",
   "metadata": {},
   "outputs": [
    {
     "ename": "ModuleNotFoundError",
     "evalue": "No module named 'utilities'",
     "output_type": "error",
     "traceback": [
      "\u001b[0;31m---------------------------------------------------------------------------\u001b[0m",
      "\u001b[0;31mModuleNotFoundError\u001b[0m                       Traceback (most recent call last)",
      "\u001b[0;32m/var/folders/b4/9v8l8lj10fg0_8mj0ts6grc80000gn/T/ipykernel_9531/312355886.py\u001b[0m in \u001b[0;36m<module>\u001b[0;34m\u001b[0m\n\u001b[1;32m      9\u001b[0m \u001b[0;34m\u001b[0m\u001b[0m\n\u001b[1;32m     10\u001b[0m \u001b[0;31m#other helper function\u001b[0m\u001b[0;34m\u001b[0m\u001b[0;34m\u001b[0m\u001b[0;34m\u001b[0m\u001b[0m\n\u001b[0;32m---> 11\u001b[0;31m \u001b[0;32mimport\u001b[0m \u001b[0mutilities\u001b[0m \u001b[0;32mas\u001b[0m \u001b[0mutil\u001b[0m\u001b[0;34m\u001b[0m\u001b[0;34m\u001b[0m\u001b[0m\n\u001b[0m\u001b[1;32m     12\u001b[0m \u001b[0;34m\u001b[0m\u001b[0m\n\u001b[1;32m     13\u001b[0m \u001b[0;34m\u001b[0m\u001b[0m\n",
      "\u001b[0;31mModuleNotFoundError\u001b[0m: No module named 'utilities'"
     ]
    }
   ],
   "source": [
    "# package for numeric computing\n",
    "import numpy as np\n",
    "\n",
    "# package for basic plotting\n",
    "from matplotlib import pyplot as plt\n",
    "\n",
    "# package for beamforming basics\n",
    "import BeamformingBasics as bf\n",
    "\n",
    "#other helper function\n",
    "import utilities as util\n",
    "\n",
    "\n",
    "# speed of sound\n",
    "c0 = 343"
   ]
  },
  {
   "cell_type": "markdown",
   "id": "35dd8e34",
   "metadata": {},
   "source": [
    "We now define the necessary variables to create a vector `t` of time-domain samples, of duration `T` seconds and sampling frequency `fs` Hz"
   ]
  },
  {
   "cell_type": "code",
   "execution_count": 11,
   "id": "29e677fd",
   "metadata": {},
   "outputs": [
    {
     "name": "stdout",
     "output_type": "stream",
     "text": [
      "(24000,)\n",
      "[0.00000000e+00 2.08333333e-05 4.16666667e-05 ... 4.99937500e-01\n",
      " 4.99958333e-01 4.99979167e-01]\n"
     ]
    }
   ],
   "source": [
    "'''\n",
    "Intuition: create an array of shape 1 by no of cycles, \n",
    "each entry represent the corresponding start time of the cycle\n",
    "'''\n",
    "# Create vector of time samples\n",
    "fs = 48e3       # sampling freq [Hz]\n",
    "dt = 1./fs      # temporal resolution [s]\n",
    "T = 0.5           # length of recording [s]\n",
    "\n",
    "N_cycles_in_recording = int(T*fs)\n",
    "\n",
    "# vector of time samples\n",
    "t = np.linspace(0, T-dt, N_cycles_in_recording)\n",
    "print(t.shape)\n",
    "print(t)"
   ]
  },
  {
   "cell_type": "markdown",
   "id": "52a0d11d",
   "metadata": {},
   "source": [
    "Onwards to our Uniform Linear Array: the `BeamformingBasics` package allows us to create a ULA by calling the function `bf.SensorArray(L, M)`, where `L` is the array length in meters and `M` is the number of sensors (here we assume `M` is always odd for simplicity). Note that, upon successful creation of our ULA, the function will automatically print the inter-sensor spacing for this array:"
   ]
  },
  {
   "cell_type": "code",
   "execution_count": 12,
   "id": "587c5234",
   "metadata": {},
   "outputs": [
    {
     "name": "stdout",
     "output_type": "stream",
     "text": [
      "Array inter sensor spacing is 0.049999999999999996 m\n"
     ]
    }
   ],
   "source": [
    "# create uniform linear array - try to change these values and see what happens!\n",
    "\n",
    "# *-*-*-*-*-*-*-*-*-*-*-*-*-*-*-*-*-*-*-*-*-*-*-*-\n",
    "# Array length [m]\n",
    "\n",
    "L = 0.15\n",
    "# *-*-*-*-*-*-*-*-*-*-*-*-*-*-*-*-*-*-*-*-*-*-*-*-\n",
    "# Number of sensors in array (must be odd!)\n",
    "\n",
    "M = 4\n",
    "# *-*-*-*-*-*-*-*-*-*-*-*-*-*-*-*-*-*-*-*-*-*-*-*-\n",
    "MyULA = bf.SensorArray(L, M)"
   ]
  },
  {
   "cell_type": "markdown",
   "id": "1d1dd2aa",
   "metadata": {},
   "source": [
    "Our array definition is stored in the object `MyULA`, and its properties can be explored by accessing its attributes (i.e. \"data\") as shown here:"
   ]
  },
  {
   "cell_type": "code",
   "execution_count": 13,
   "id": "a034ccb3",
   "metadata": {},
   "outputs": [
    {
     "name": "stdout",
     "output_type": "stream",
     "text": [
      "4\n",
      "0.15\n",
      "0.049999999999999996\n",
      "[-2 -1  0  2]\n",
      "[[-0.075 -0.025  0.025  0.075]\n",
      " [ 0.     0.     0.     0.   ]]\n"
     ]
    }
   ],
   "source": [
    "print(MyULA.M)    # number of elements in array\n",
    "print(MyULA.L)    # array length\n",
    "print(MyULA.d)    # inter-sensor spacing\n",
    "print(MyULA.m)    # vector of indices (from -(M-1)/2 to +(M-1)/2, so m=0 is center element)\n",
    "print(MyULA.XY)   # (2, M)-shaped array containing the (x,y) coordinates of each sensor"
   ]
  },
  {
   "cell_type": "markdown",
   "id": "591c4fe2",
   "metadata": {},
   "source": [
    "#### Added Part (MAINTLET)\n",
    "1. Importing our signal data, loading wavfile into a np array with sample_rate and data(data_length, no_of_channels);\n",
    "2. filter to get first 3 channels and extract the middle part 0.5s interval for experiment\n",
    "3. reverse the sensors to make it suitable for later processing"
   ]
  },
  {
   "cell_type": "code",
   "execution_count": 32,
   "id": "b41d655d-87c9-424d-a18d-86e07cb2340e",
   "metadata": {},
   "outputs": [
    {
     "name": "stdout",
     "output_type": "stream",
     "text": [
      "sample rate: 48000\n",
      "data  shape: (480000, 8)\n",
      "[[ -12 -100  -44 ... -108  -24  -32]\n",
      " [ 168  104   88 ... -208 -200 -228]\n",
      " [-300 -244   44 ...  196  184   80]\n",
      " [  16  -76 -196 ... -192 -156  -92]]\n",
      "data  shape: (4, 240000)\n",
      "[[  16  -76 -196 ... -192 -156  -92]\n",
      " [-300 -244   44 ...  196  184   80]\n",
      " [ 168  104   88 ... -208 -200 -228]\n",
      " [ -12 -100  -44 ... -108  -24  -32]]\n"
     ]
    }
   ],
   "source": [
    "# TBT load our own data\n",
    "from scipy.io import wavfile\n",
    "\n",
    "filename = '../../data/4K_45_16_48000_10s.wav'\n",
    "\n",
    "sampleRate, data = wavfile.read(filename)\n",
    "print(f\"sample rate: {sampleRate}\")\n",
    "print(f\"data  shape: {data.shape}\")\n",
    "# remove first 20000\n",
    "front_offset = 48000*5\n",
    "# extract 0.5S\n",
    "#get the 0.5s starting at 5s, while extracting the middle 3 channels\n",
    "data = data[front_offset:front_offset+48000 * 5,0:4].T\n",
    "print(data)\n",
    "\n",
    "data = np.flip(data, 0)\n",
    "print(f\"data  shape: {data.shape}\")\n",
    "print(data)"
   ]
  },
  {
   "cell_type": "markdown",
   "id": "9868dfad",
   "metadata": {},
   "source": [
    "#### Added Part (MAINTLET)\n",
    "\n",
    "Choose the following if we want to simulate receiving signal waves.\n",
    "1. one direction of arrival `theta0_deg` for our incoming plane wave containing the narrowband pulse, \n",
    "2. the onset time `t_initial` for the pulse, \n",
    "3. a signal-to-noise ratio `SNR` in decibels for the array signals.\n",
    "\n",
    "\n",
    "However, we have our audio wave file loaded, so just take a look at the wave graph generated and move on."
   ]
  },
  {
   "cell_type": "code",
   "execution_count": 33,
   "id": "7f680ac6",
   "metadata": {},
   "outputs": [
    {
     "name": "stdout",
     "output_type": "stream",
     "text": [
      "(4, 240000)\n"
     ]
    },
    {
     "ename": "ValueError",
     "evalue": "x and y must have same first dimension, but have shapes (24000,) and (240000,)",
     "output_type": "error",
     "traceback": [
      "\u001b[0;31m---------------------------------------------------------------------------\u001b[0m",
      "\u001b[0;31mValueError\u001b[0m                                Traceback (most recent call last)",
      "\u001b[0;32m/var/folders/b4/9v8l8lj10fg0_8mj0ts6grc80000gn/T/ipykernel_9531/3214670719.py\u001b[0m in \u001b[0;36m<module>\u001b[0;34m\u001b[0m\n\u001b[1;32m     30\u001b[0m     \u001b[0;32mif\u001b[0m \u001b[0mm\u001b[0m \u001b[0;34m==\u001b[0m \u001b[0;36m0\u001b[0m\u001b[0;34m:\u001b[0m\u001b[0;34m\u001b[0m\u001b[0;34m\u001b[0m\u001b[0m\n\u001b[1;32m     31\u001b[0m         \u001b[0mplt\u001b[0m\u001b[0;34m.\u001b[0m\u001b[0mtitle\u001b[0m\u001b[0;34m(\u001b[0m\u001b[0;34m'Some array signals'\u001b[0m\u001b[0;34m)\u001b[0m\u001b[0;34m\u001b[0m\u001b[0;34m\u001b[0m\u001b[0m\n\u001b[0;32m---> 32\u001b[0;31m     \u001b[0mplt\u001b[0m\u001b[0;34m.\u001b[0m\u001b[0mplot\u001b[0m\u001b[0;34m(\u001b[0m\u001b[0mt\u001b[0m\u001b[0;34m,\u001b[0m \u001b[0mp_array\u001b[0m\u001b[0;34m[\u001b[0m\u001b[0mm_index\u001b[0m\u001b[0;34m[\u001b[0m\u001b[0mm\u001b[0m\u001b[0;34m]\u001b[0m\u001b[0;34m,\u001b[0m\u001b[0;34m:\u001b[0m\u001b[0;34m]\u001b[0m\u001b[0;34m,\u001b[0m \u001b[0mlabel\u001b[0m\u001b[0;34m=\u001b[0m\u001b[0;34m'm={}'\u001b[0m\u001b[0;34m.\u001b[0m\u001b[0mformat\u001b[0m\u001b[0;34m(\u001b[0m\u001b[0mm_index\u001b[0m\u001b[0;34m[\u001b[0m\u001b[0mm\u001b[0m\u001b[0;34m]\u001b[0m\u001b[0;34m-\u001b[0m\u001b[0mM\u001b[0m\u001b[0;34m//\u001b[0m\u001b[0;36m2\u001b[0m\u001b[0;34m)\u001b[0m\u001b[0;34m)\u001b[0m\u001b[0;34m\u001b[0m\u001b[0;34m\u001b[0m\u001b[0m\n\u001b[0m\u001b[1;32m     33\u001b[0m     \u001b[0mplt\u001b[0m\u001b[0;34m.\u001b[0m\u001b[0mxlim\u001b[0m\u001b[0;34m(\u001b[0m\u001b[0;34m[\u001b[0m\u001b[0mt_initial\u001b[0m\u001b[0;34m,\u001b[0m \u001b[0mt_initial\u001b[0m\u001b[0;34m+\u001b[0m\u001b[0;36m2\u001b[0m\u001b[0;34m*\u001b[0m\u001b[0mT_pulse\u001b[0m\u001b[0;34m]\u001b[0m\u001b[0;34m)\u001b[0m\u001b[0;34m\u001b[0m\u001b[0;34m\u001b[0m\u001b[0m\n\u001b[1;32m     34\u001b[0m     \u001b[0mplt\u001b[0m\u001b[0;34m.\u001b[0m\u001b[0mlegend\u001b[0m\u001b[0;34m(\u001b[0m\u001b[0;34m)\u001b[0m\u001b[0;34m\u001b[0m\u001b[0;34m\u001b[0m\u001b[0m\n",
      "\u001b[0;32m/usr/local/lib/python3.8/site-packages/matplotlib/pyplot.py\u001b[0m in \u001b[0;36mplot\u001b[0;34m(scalex, scaley, data, *args, **kwargs)\u001b[0m\n\u001b[1;32m   3017\u001b[0m \u001b[0;34m@\u001b[0m\u001b[0m_copy_docstring_and_deprecators\u001b[0m\u001b[0;34m(\u001b[0m\u001b[0mAxes\u001b[0m\u001b[0;34m.\u001b[0m\u001b[0mplot\u001b[0m\u001b[0;34m)\u001b[0m\u001b[0;34m\u001b[0m\u001b[0;34m\u001b[0m\u001b[0m\n\u001b[1;32m   3018\u001b[0m \u001b[0;32mdef\u001b[0m \u001b[0mplot\u001b[0m\u001b[0;34m(\u001b[0m\u001b[0;34m*\u001b[0m\u001b[0margs\u001b[0m\u001b[0;34m,\u001b[0m \u001b[0mscalex\u001b[0m\u001b[0;34m=\u001b[0m\u001b[0;32mTrue\u001b[0m\u001b[0;34m,\u001b[0m \u001b[0mscaley\u001b[0m\u001b[0;34m=\u001b[0m\u001b[0;32mTrue\u001b[0m\u001b[0;34m,\u001b[0m \u001b[0mdata\u001b[0m\u001b[0;34m=\u001b[0m\u001b[0;32mNone\u001b[0m\u001b[0;34m,\u001b[0m \u001b[0;34m**\u001b[0m\u001b[0mkwargs\u001b[0m\u001b[0;34m)\u001b[0m\u001b[0;34m:\u001b[0m\u001b[0;34m\u001b[0m\u001b[0;34m\u001b[0m\u001b[0m\n\u001b[0;32m-> 3019\u001b[0;31m     return gca().plot(\n\u001b[0m\u001b[1;32m   3020\u001b[0m         \u001b[0;34m*\u001b[0m\u001b[0margs\u001b[0m\u001b[0;34m,\u001b[0m \u001b[0mscalex\u001b[0m\u001b[0;34m=\u001b[0m\u001b[0mscalex\u001b[0m\u001b[0;34m,\u001b[0m \u001b[0mscaley\u001b[0m\u001b[0;34m=\u001b[0m\u001b[0mscaley\u001b[0m\u001b[0;34m,\u001b[0m\u001b[0;34m\u001b[0m\u001b[0;34m\u001b[0m\u001b[0m\n\u001b[1;32m   3021\u001b[0m         **({\"data\": data} if data is not None else {}), **kwargs)\n",
      "\u001b[0;32m/usr/local/lib/python3.8/site-packages/matplotlib/axes/_axes.py\u001b[0m in \u001b[0;36mplot\u001b[0;34m(self, scalex, scaley, data, *args, **kwargs)\u001b[0m\n\u001b[1;32m   1603\u001b[0m         \"\"\"\n\u001b[1;32m   1604\u001b[0m         \u001b[0mkwargs\u001b[0m \u001b[0;34m=\u001b[0m \u001b[0mcbook\u001b[0m\u001b[0;34m.\u001b[0m\u001b[0mnormalize_kwargs\u001b[0m\u001b[0;34m(\u001b[0m\u001b[0mkwargs\u001b[0m\u001b[0;34m,\u001b[0m \u001b[0mmlines\u001b[0m\u001b[0;34m.\u001b[0m\u001b[0mLine2D\u001b[0m\u001b[0;34m)\u001b[0m\u001b[0;34m\u001b[0m\u001b[0;34m\u001b[0m\u001b[0m\n\u001b[0;32m-> 1605\u001b[0;31m         \u001b[0mlines\u001b[0m \u001b[0;34m=\u001b[0m \u001b[0;34m[\u001b[0m\u001b[0;34m*\u001b[0m\u001b[0mself\u001b[0m\u001b[0;34m.\u001b[0m\u001b[0m_get_lines\u001b[0m\u001b[0;34m(\u001b[0m\u001b[0;34m*\u001b[0m\u001b[0margs\u001b[0m\u001b[0;34m,\u001b[0m \u001b[0mdata\u001b[0m\u001b[0;34m=\u001b[0m\u001b[0mdata\u001b[0m\u001b[0;34m,\u001b[0m \u001b[0;34m**\u001b[0m\u001b[0mkwargs\u001b[0m\u001b[0;34m)\u001b[0m\u001b[0;34m]\u001b[0m\u001b[0;34m\u001b[0m\u001b[0;34m\u001b[0m\u001b[0m\n\u001b[0m\u001b[1;32m   1606\u001b[0m         \u001b[0;32mfor\u001b[0m \u001b[0mline\u001b[0m \u001b[0;32min\u001b[0m \u001b[0mlines\u001b[0m\u001b[0;34m:\u001b[0m\u001b[0;34m\u001b[0m\u001b[0;34m\u001b[0m\u001b[0m\n\u001b[1;32m   1607\u001b[0m             \u001b[0mself\u001b[0m\u001b[0;34m.\u001b[0m\u001b[0madd_line\u001b[0m\u001b[0;34m(\u001b[0m\u001b[0mline\u001b[0m\u001b[0;34m)\u001b[0m\u001b[0;34m\u001b[0m\u001b[0;34m\u001b[0m\u001b[0m\n",
      "\u001b[0;32m/usr/local/lib/python3.8/site-packages/matplotlib/axes/_base.py\u001b[0m in \u001b[0;36m__call__\u001b[0;34m(self, data, *args, **kwargs)\u001b[0m\n\u001b[1;32m    313\u001b[0m                 \u001b[0mthis\u001b[0m \u001b[0;34m+=\u001b[0m \u001b[0margs\u001b[0m\u001b[0;34m[\u001b[0m\u001b[0;36m0\u001b[0m\u001b[0;34m]\u001b[0m\u001b[0;34m,\u001b[0m\u001b[0;34m\u001b[0m\u001b[0;34m\u001b[0m\u001b[0m\n\u001b[1;32m    314\u001b[0m                 \u001b[0margs\u001b[0m \u001b[0;34m=\u001b[0m \u001b[0margs\u001b[0m\u001b[0;34m[\u001b[0m\u001b[0;36m1\u001b[0m\u001b[0;34m:\u001b[0m\u001b[0;34m]\u001b[0m\u001b[0;34m\u001b[0m\u001b[0;34m\u001b[0m\u001b[0m\n\u001b[0;32m--> 315\u001b[0;31m             \u001b[0;32myield\u001b[0m \u001b[0;32mfrom\u001b[0m \u001b[0mself\u001b[0m\u001b[0;34m.\u001b[0m\u001b[0m_plot_args\u001b[0m\u001b[0;34m(\u001b[0m\u001b[0mthis\u001b[0m\u001b[0;34m,\u001b[0m \u001b[0mkwargs\u001b[0m\u001b[0;34m)\u001b[0m\u001b[0;34m\u001b[0m\u001b[0;34m\u001b[0m\u001b[0m\n\u001b[0m\u001b[1;32m    316\u001b[0m \u001b[0;34m\u001b[0m\u001b[0m\n\u001b[1;32m    317\u001b[0m     \u001b[0;32mdef\u001b[0m \u001b[0mget_next_color\u001b[0m\u001b[0;34m(\u001b[0m\u001b[0mself\u001b[0m\u001b[0;34m)\u001b[0m\u001b[0;34m:\u001b[0m\u001b[0;34m\u001b[0m\u001b[0;34m\u001b[0m\u001b[0m\n",
      "\u001b[0;32m/usr/local/lib/python3.8/site-packages/matplotlib/axes/_base.py\u001b[0m in \u001b[0;36m_plot_args\u001b[0;34m(self, tup, kwargs, return_kwargs)\u001b[0m\n\u001b[1;32m    499\u001b[0m \u001b[0;34m\u001b[0m\u001b[0m\n\u001b[1;32m    500\u001b[0m         \u001b[0;32mif\u001b[0m \u001b[0mx\u001b[0m\u001b[0;34m.\u001b[0m\u001b[0mshape\u001b[0m\u001b[0;34m[\u001b[0m\u001b[0;36m0\u001b[0m\u001b[0;34m]\u001b[0m \u001b[0;34m!=\u001b[0m \u001b[0my\u001b[0m\u001b[0;34m.\u001b[0m\u001b[0mshape\u001b[0m\u001b[0;34m[\u001b[0m\u001b[0;36m0\u001b[0m\u001b[0;34m]\u001b[0m\u001b[0;34m:\u001b[0m\u001b[0;34m\u001b[0m\u001b[0;34m\u001b[0m\u001b[0m\n\u001b[0;32m--> 501\u001b[0;31m             raise ValueError(f\"x and y must have same first dimension, but \"\n\u001b[0m\u001b[1;32m    502\u001b[0m                              f\"have shapes {x.shape} and {y.shape}\")\n\u001b[1;32m    503\u001b[0m         \u001b[0;32mif\u001b[0m \u001b[0mx\u001b[0m\u001b[0;34m.\u001b[0m\u001b[0mndim\u001b[0m \u001b[0;34m>\u001b[0m \u001b[0;36m2\u001b[0m \u001b[0;32mor\u001b[0m \u001b[0my\u001b[0m\u001b[0;34m.\u001b[0m\u001b[0mndim\u001b[0m \u001b[0;34m>\u001b[0m \u001b[0;36m2\u001b[0m\u001b[0;34m:\u001b[0m\u001b[0;34m\u001b[0m\u001b[0;34m\u001b[0m\u001b[0m\n",
      "\u001b[0;31mValueError\u001b[0m: x and y must have same first dimension, but have shapes (24000,) and (240000,)"
     ]
    },
    {
     "data": {
      "image/png": "[encoded data removed]",
      "text/plain": [
       "<Figure size 432x288 with 1 Axes>"
      ]
     },
     "metadata": {
      "needs_background": "light"
     },
     "output_type": "display_data"
    }
   ],
   "source": [
    "# create array of sensor signals from a given direction of arrival\n",
    "\n",
    "# *-*-*-*-*-*-*-*-*-*-*-*-*-*-*-*-*-*-*-*-*-*-*-*-\n",
    "# direction of arrival of narrowband pulse, in degrees\n",
    "# --> try any value between 0 and 180\n",
    "\n",
    "theta0_deg = 135.\n",
    "T_pulse = 0.002      # [s]\n",
    "\n",
    "# *-*-*-*-*-*-*-*-*-*-*-*-*-*-*-*-*-*-*-*-*-*-*-*-\n",
    "# signal-to-noise ratio at array signal\n",
    "# --> 'None' means no noise is present\n",
    "# --> 60 dB means very little noise is present\n",
    "# -->  0 dB means signal and noise have the same power - will the beamformer even work?\n",
    "\n",
    "# SNR_dB = 60\n",
    "# # *-*-*-*-*-*-*-*-*-*-*-*-*-*-*-*-*-*-*-*-*-*-*-*-\n",
    "\n",
    "# # onset time of narrowband pulse\n",
    "t_initial = 0.3\n",
    "\n",
    "p_array = data\n",
    "print(p_array.shape)\n",
    "# plot first, middle and last array signals\n",
    "plt.figure()\n",
    "m_index = [0, int((M-1)/2), M-1]\n",
    "for m in range(3):\n",
    "    plt.subplot(3, 1, m+1)\n",
    "    \n",
    "    if m == 0:\n",
    "        plt.title('Some array signals')\n",
    "    plt.plot(t, p_array[m_index[m],:], label='m={}'.format(m_index[m]-M//2))\n",
    "    plt.xlim([t_initial, t_initial+2*T_pulse])\n",
    "    plt.legend()\n"
   ]
  },
  {
   "cell_type": "code",
   "execution_count": null,
   "id": "aa336684",
   "metadata": {},
   "outputs": [],
   "source": []
  },
  {
   "cell_type": "markdown",
   "id": "d0663287",
   "metadata": {},
   "source": [
    "#### Added Part (MAINTLET)\n",
    "So as this block\n",
    "\n",
    "For a visual reference, let us plot a plane wave acoustic field at the same frequency and direction of arrival as the narrowband pulse created above."
   ]
  },
  {
   "cell_type": "code",
   "execution_count": 34,
   "id": "ebfcba1e",
   "metadata": {},
   "outputs": [
    {
     "ename": "NameError",
     "evalue": "name 'ac_wavelength' is not defined",
     "output_type": "error",
     "traceback": [
      "\u001b[0;31m---------------------------------------------------------------------------\u001b[0m",
      "\u001b[0;31mNameError\u001b[0m                                 Traceback (most recent call last)",
      "\u001b[0;32m/var/folders/b4/9v8l8lj10fg0_8mj0ts6grc80000gn/T/ipykernel_9531/571944992.py\u001b[0m in \u001b[0;36m<module>\u001b[0;34m\u001b[0m\n\u001b[1;32m      8\u001b[0m \u001b[0;31m# create acoustic wavenumber vector, pointint at the DIRECTION OF PROPAGATION\u001b[0m\u001b[0;34m\u001b[0m\u001b[0;34m\u001b[0m\u001b[0;34m\u001b[0m\u001b[0m\n\u001b[1;32m      9\u001b[0m \u001b[0;31m# of the plane wave (opposite to the DIRECTION OF ARRIVAL!)\u001b[0m\u001b[0;34m\u001b[0m\u001b[0;34m\u001b[0m\u001b[0;34m\u001b[0m\u001b[0m\n\u001b[0;32m---> 10\u001b[0;31m \u001b[0mk0\u001b[0m \u001b[0;34m=\u001b[0m \u001b[0;36m2\u001b[0m\u001b[0;34m*\u001b[0m\u001b[0mnp\u001b[0m\u001b[0;34m.\u001b[0m\u001b[0mpi\u001b[0m\u001b[0;34m/\u001b[0m\u001b[0mac_wavelength\u001b[0m\u001b[0;34m\u001b[0m\u001b[0;34m\u001b[0m\u001b[0m\n\u001b[0m\u001b[1;32m     11\u001b[0m \u001b[0mtheta0\u001b[0m \u001b[0;34m=\u001b[0m \u001b[0mtheta0_deg\u001b[0m\u001b[0;34m*\u001b[0m\u001b[0mnp\u001b[0m\u001b[0;34m.\u001b[0m\u001b[0mpi\u001b[0m\u001b[0;34m/\u001b[0m\u001b[0;36m180.\u001b[0m\u001b[0;34m\u001b[0m\u001b[0;34m\u001b[0m\u001b[0m\n\u001b[1;32m     12\u001b[0m \u001b[0mk_vec\u001b[0m \u001b[0;34m=\u001b[0m \u001b[0mk0\u001b[0m\u001b[0;34m*\u001b[0m\u001b[0mnp\u001b[0m\u001b[0;34m.\u001b[0m\u001b[0marray\u001b[0m\u001b[0;34m(\u001b[0m\u001b[0;34m[\u001b[0m\u001b[0;34m-\u001b[0m\u001b[0mnp\u001b[0m\u001b[0;34m.\u001b[0m\u001b[0mcos\u001b[0m\u001b[0;34m(\u001b[0m\u001b[0mtheta0\u001b[0m\u001b[0;34m)\u001b[0m\u001b[0;34m,\u001b[0m \u001b[0;34m-\u001b[0m\u001b[0mnp\u001b[0m\u001b[0;34m.\u001b[0m\u001b[0msin\u001b[0m\u001b[0;34m(\u001b[0m\u001b[0mtheta0\u001b[0m\u001b[0;34m)\u001b[0m\u001b[0;34m]\u001b[0m\u001b[0;34m)\u001b[0m\u001b[0;34m\u001b[0m\u001b[0;34m\u001b[0m\u001b[0m\n",
      "\u001b[0;31mNameError\u001b[0m: name 'ac_wavelength' is not defined"
     ]
    }
   ],
   "source": [
    "# Create 2D mesh of (x, y) points\n",
    "mesh_side1 = np.linspace(-0.7*L, 0.7*L, 1400)\n",
    "mesh_side2 = np.linspace(-0.475*L, 0.475*L, 950)\n",
    "XY_mesh = np.array(np.meshgrid(mesh_side1, mesh_side2))\n",
    "\n",
    "XY_mesh[1] += 0.4*L\n",
    "\n",
    "# create acoustic wavenumber vector, pointint at the DIRECTION OF PROPAGATION\n",
    "# of the plane wave (opposite to the DIRECTION OF ARRIVAL!)\n",
    "k0 = 2*np.pi/ac_wavelength\n",
    "theta0 = theta0_deg*np.pi/180.\n",
    "k_vec = k0*np.array([-np.cos(theta0), -np.sin(theta0)])\n",
    "\n",
    "# create plane wave acoustic field\n",
    "p_planewave = np.exp(-1j*np.tensordot(k_vec, XY_mesh, axes=(0,0)))\n",
    "\n",
    "# plot acoustic field and array positions\n",
    "fig = plt.figure(figsize=(7, 5))\n",
    "ax = fig.add_subplot(111)\n",
    "ax.pcolormesh(XY_mesh[0], XY_mesh[1], p_planewave.real, cmap='seismic',\n",
    "              shading='nearest', vmin=-5, vmax=+5)\n",
    "ax.plot(MyULA.XY[0], MyULA.XY[1], 'ko')\n",
    "ax.set_xlabel(r'$x$', fontsize=15)\n",
    "ax.set_xticks(ticks=np.array([-0.5, 0., 0.5])*L)\n",
    "ax.set_xticklabels([r'$-\\frac{L}{2}$', r'$0$', r'$+\\frac{L}{2}$'],\n",
    "                   fontsize=12)\n",
    "ax.set_ylabel(r'$y$', fontsize=15)\n",
    "ax.set_yticks(ticks=np.array([0., 0.5])*L)\n",
    "ax.set_yticklabels([r'$0$', r'$+\\frac{L}{2}$'], fontsize=12)\n",
    "ax.axis('equal')\n",
    "\n",
    "# indicate direction of propagation of plane wave with a red arrow\n",
    "ax.arrow(0.65*L*np.cos(theta0), 0.65*L*np.sin(theta0),\n",
    "         -0.1*L*np.cos(theta0), -0.1*L*np.sin(theta0),\n",
    "         width=0.01*L, head_width=0.05*L, head_length=0.04*L,\n",
    "         length_includes_head=True, edgecolor = 'k', facecolor = 'r')\n"
   ]
  },
  {
   "cell_type": "code",
   "execution_count": null,
   "id": "79fdbd3b",
   "metadata": {},
   "outputs": [],
   "source": []
  },
  {
   "cell_type": "markdown",
   "id": "f33d950a",
   "metadata": {},
   "source": [
    "#### Added Part (MAINTLET)\n",
    "\n",
    "The actual beamforming calculation is performed via the function `bf.delayandsum_beamformer`\n",
    "1. the ULA object\n",
    "2. the sensor signals \n",
    "3. the vector of look directions\n",
    "4. the sampling frequency \n",
    "\n",
    "function returns a (`N_theta`, `N_time`)-shaped array containing the beamformer output signal y(t) for each look direction theta"
   ]
  },
  {
   "cell_type": "code",
   "execution_count": 35,
   "id": "d37360e8",
   "metadata": {},
   "outputs": [
    {
     "name": "stdout",
     "output_type": "stream",
     "text": [
      "BF called\n"
     ]
    }
   ],
   "source": [
    "# use delay-and-sum beamforming to map direction of arrival\n",
    "\n",
    "N_theta = 181\n",
    "theta = np.linspace(0, np.pi, N_theta)\n",
    "\n",
    "N_DoA = int(theta0_deg)\n",
    "\n",
    "# *-*-*-*-*-*-*-*-*-*-*-*-*-*-*-*-*-*-*-*-*-*-*-*-\n",
    "## array shading schemes - uncomment one\n",
    "\n",
    "weights = np.ones(M)\n",
    "# weights = ss.windows.hann(M)\n",
    "# weights = ss.windows.chebwin(M, 40)\n",
    "# *-*-*-*-*-*-*-*-*-*-*-*-*-*-*-*-*-*-*-*-*-*-*-*-\n",
    "\n",
    "y_beamformer, center_output = bf.delayandsum_beamformer(MyULA, p_array, theta, 45, weights, fs, c0=343)"
   ]
  },
  {
   "cell_type": "markdown",
   "id": "2b962514",
   "metadata": {},
   "source": [
    "We now plot the beamformer output y(theta, t) for a few candidate steering directions - say, 0 deg, 45 deg and 90 deg. If the steering direction matches the direction of arrival `theta0` of the plane wave, you should see a large amplitude pulse; otherwise, destructive interference between the misaligned sensor signals will yield a low amplitude result - or perhaps even zero!\n",
    "\n",
    "It is very interesting to compare the beamformer output y(t) to the signal captured by the center sensor p0(t). The second figure was created so that it superimposes the center sensor signal to the beamformer output when the steering direction matches the plane wave DoA(Direction of Arrival). Note how the beamformer output has significantly less noise than the single sensor."
   ]
  },
  {
   "cell_type": "code",
   "execution_count": 36,
   "id": "9d4954c5",
   "metadata": {},
   "outputs": [
    {
     "ename": "ValueError",
     "evalue": "x and y must have same first dimension, but have shapes (24000,) and (240000,)",
     "output_type": "error",
     "traceback": [
      "\u001b[0;31m---------------------------------------------------------------------------\u001b[0m",
      "\u001b[0;31mValueError\u001b[0m                                Traceback (most recent call last)",
      "\u001b[0;32m/var/folders/b4/9v8l8lj10fg0_8mj0ts6grc80000gn/T/ipykernel_9531/2596779287.py\u001b[0m in \u001b[0;36m<module>\u001b[0;34m\u001b[0m\n\u001b[1;32m      2\u001b[0m \u001b[0mtarget\u001b[0m \u001b[0;34m=\u001b[0m \u001b[0;36m45\u001b[0m\u001b[0;34m\u001b[0m\u001b[0;34m\u001b[0m\u001b[0m\n\u001b[1;32m      3\u001b[0m \u001b[0mplt\u001b[0m\u001b[0;34m.\u001b[0m\u001b[0mfigure\u001b[0m\u001b[0;34m(\u001b[0m\u001b[0;34m)\u001b[0m\u001b[0;34m\u001b[0m\u001b[0;34m\u001b[0m\u001b[0m\n\u001b[0;32m----> 4\u001b[0;31m \u001b[0mplt\u001b[0m\u001b[0;34m.\u001b[0m\u001b[0mplot\u001b[0m\u001b[0;34m(\u001b[0m\u001b[0mt\u001b[0m\u001b[0;34m,\u001b[0m \u001b[0my_beamformer\u001b[0m\u001b[0;34m[\u001b[0m\u001b[0;36m0\u001b[0m\u001b[0;34m,\u001b[0m \u001b[0;34m:\u001b[0m\u001b[0;34m]\u001b[0m\u001b[0;34m,\u001b[0m \u001b[0mlabel\u001b[0m\u001b[0;34m=\u001b[0m\u001b[0;34m'0 deg'\u001b[0m\u001b[0;34m)\u001b[0m\u001b[0;34m\u001b[0m\u001b[0;34m\u001b[0m\u001b[0m\n\u001b[0m\u001b[1;32m      5\u001b[0m \u001b[0mplt\u001b[0m\u001b[0;34m.\u001b[0m\u001b[0mplot\u001b[0m\u001b[0;34m(\u001b[0m\u001b[0mt\u001b[0m\u001b[0;34m,\u001b[0m \u001b[0my_beamformer\u001b[0m\u001b[0;34m[\u001b[0m\u001b[0mtarget\u001b[0m\u001b[0;34m,\u001b[0m \u001b[0;34m:\u001b[0m\u001b[0;34m]\u001b[0m\u001b[0;34m,\u001b[0m \u001b[0;34m'--'\u001b[0m\u001b[0;34m,\u001b[0m \u001b[0mlabel\u001b[0m\u001b[0;34m=\u001b[0m\u001b[0mstr\u001b[0m\u001b[0;34m(\u001b[0m\u001b[0mtarget\u001b[0m\u001b[0;34m)\u001b[0m \u001b[0;34m+\u001b[0m \u001b[0;34m' deg'\u001b[0m\u001b[0;34m)\u001b[0m\u001b[0;34m\u001b[0m\u001b[0;34m\u001b[0m\u001b[0m\n\u001b[1;32m      6\u001b[0m \u001b[0mplt\u001b[0m\u001b[0;34m.\u001b[0m\u001b[0mplot\u001b[0m\u001b[0;34m(\u001b[0m\u001b[0mt\u001b[0m\u001b[0;34m,\u001b[0m \u001b[0my_beamformer\u001b[0m\u001b[0;34m[\u001b[0m\u001b[0;36m90\u001b[0m\u001b[0;34m,\u001b[0m \u001b[0;34m:\u001b[0m\u001b[0;34m]\u001b[0m\u001b[0;34m,\u001b[0m \u001b[0;34m':'\u001b[0m\u001b[0;34m,\u001b[0m \u001b[0mlabel\u001b[0m\u001b[0;34m=\u001b[0m\u001b[0;34m'90 deg'\u001b[0m\u001b[0;34m)\u001b[0m\u001b[0;34m\u001b[0m\u001b[0;34m\u001b[0m\u001b[0m\n",
      "\u001b[0;32m/usr/local/lib/python3.8/site-packages/matplotlib/pyplot.py\u001b[0m in \u001b[0;36mplot\u001b[0;34m(scalex, scaley, data, *args, **kwargs)\u001b[0m\n\u001b[1;32m   3017\u001b[0m \u001b[0;34m@\u001b[0m\u001b[0m_copy_docstring_and_deprecators\u001b[0m\u001b[0;34m(\u001b[0m\u001b[0mAxes\u001b[0m\u001b[0;34m.\u001b[0m\u001b[0mplot\u001b[0m\u001b[0;34m)\u001b[0m\u001b[0;34m\u001b[0m\u001b[0;34m\u001b[0m\u001b[0m\n\u001b[1;32m   3018\u001b[0m \u001b[0;32mdef\u001b[0m \u001b[0mplot\u001b[0m\u001b[0;34m(\u001b[0m\u001b[0;34m*\u001b[0m\u001b[0margs\u001b[0m\u001b[0;34m,\u001b[0m \u001b[0mscalex\u001b[0m\u001b[0;34m=\u001b[0m\u001b[0;32mTrue\u001b[0m\u001b[0;34m,\u001b[0m \u001b[0mscaley\u001b[0m\u001b[0;34m=\u001b[0m\u001b[0;32mTrue\u001b[0m\u001b[0;34m,\u001b[0m \u001b[0mdata\u001b[0m\u001b[0;34m=\u001b[0m\u001b[0;32mNone\u001b[0m\u001b[0;34m,\u001b[0m \u001b[0;34m**\u001b[0m\u001b[0mkwargs\u001b[0m\u001b[0;34m)\u001b[0m\u001b[0;34m:\u001b[0m\u001b[0;34m\u001b[0m\u001b[0;34m\u001b[0m\u001b[0m\n\u001b[0;32m-> 3019\u001b[0;31m     return gca().plot(\n\u001b[0m\u001b[1;32m   3020\u001b[0m         \u001b[0;34m*\u001b[0m\u001b[0margs\u001b[0m\u001b[0;34m,\u001b[0m \u001b[0mscalex\u001b[0m\u001b[0;34m=\u001b[0m\u001b[0mscalex\u001b[0m\u001b[0;34m,\u001b[0m \u001b[0mscaley\u001b[0m\u001b[0;34m=\u001b[0m\u001b[0mscaley\u001b[0m\u001b[0;34m,\u001b[0m\u001b[0;34m\u001b[0m\u001b[0;34m\u001b[0m\u001b[0m\n\u001b[1;32m   3021\u001b[0m         **({\"data\": data} if data is not None else {}), **kwargs)\n",
      "\u001b[0;32m/usr/local/lib/python3.8/site-packages/matplotlib/axes/_axes.py\u001b[0m in \u001b[0;36mplot\u001b[0;34m(self, scalex, scaley, data, *args, **kwargs)\u001b[0m\n\u001b[1;32m   1603\u001b[0m         \"\"\"\n\u001b[1;32m   1604\u001b[0m         \u001b[0mkwargs\u001b[0m \u001b[0;34m=\u001b[0m \u001b[0mcbook\u001b[0m\u001b[0;34m.\u001b[0m\u001b[0mnormalize_kwargs\u001b[0m\u001b[0;34m(\u001b[0m\u001b[0mkwargs\u001b[0m\u001b[0;34m,\u001b[0m \u001b[0mmlines\u001b[0m\u001b[0;34m.\u001b[0m\u001b[0mLine2D\u001b[0m\u001b[0;34m)\u001b[0m\u001b[0;34m\u001b[0m\u001b[0;34m\u001b[0m\u001b[0m\n\u001b[0;32m-> 1605\u001b[0;31m         \u001b[0mlines\u001b[0m \u001b[0;34m=\u001b[0m \u001b[0;34m[\u001b[0m\u001b[0;34m*\u001b[0m\u001b[0mself\u001b[0m\u001b[0;34m.\u001b[0m\u001b[0m_get_lines\u001b[0m\u001b[0;34m(\u001b[0m\u001b[0;34m*\u001b[0m\u001b[0margs\u001b[0m\u001b[0;34m,\u001b[0m \u001b[0mdata\u001b[0m\u001b[0;34m=\u001b[0m\u001b[0mdata\u001b[0m\u001b[0;34m,\u001b[0m \u001b[0;34m**\u001b[0m\u001b[0mkwargs\u001b[0m\u001b[0;34m)\u001b[0m\u001b[0;34m]\u001b[0m\u001b[0;34m\u001b[0m\u001b[0;34m\u001b[0m\u001b[0m\n\u001b[0m\u001b[1;32m   1606\u001b[0m         \u001b[0;32mfor\u001b[0m \u001b[0mline\u001b[0m \u001b[0;32min\u001b[0m \u001b[0mlines\u001b[0m\u001b[0;34m:\u001b[0m\u001b[0;34m\u001b[0m\u001b[0;34m\u001b[0m\u001b[0m\n\u001b[1;32m   1607\u001b[0m             \u001b[0mself\u001b[0m\u001b[0;34m.\u001b[0m\u001b[0madd_line\u001b[0m\u001b[0;34m(\u001b[0m\u001b[0mline\u001b[0m\u001b[0;34m)\u001b[0m\u001b[0;34m\u001b[0m\u001b[0;34m\u001b[0m\u001b[0m\n",
      "\u001b[0;32m/usr/local/lib/python3.8/site-packages/matplotlib/axes/_base.py\u001b[0m in \u001b[0;36m__call__\u001b[0;34m(self, data, *args, **kwargs)\u001b[0m\n\u001b[1;32m    313\u001b[0m                 \u001b[0mthis\u001b[0m \u001b[0;34m+=\u001b[0m \u001b[0margs\u001b[0m\u001b[0;34m[\u001b[0m\u001b[0;36m0\u001b[0m\u001b[0;34m]\u001b[0m\u001b[0;34m,\u001b[0m\u001b[0;34m\u001b[0m\u001b[0;34m\u001b[0m\u001b[0m\n\u001b[1;32m    314\u001b[0m                 \u001b[0margs\u001b[0m \u001b[0;34m=\u001b[0m \u001b[0margs\u001b[0m\u001b[0;34m[\u001b[0m\u001b[0;36m1\u001b[0m\u001b[0;34m:\u001b[0m\u001b[0;34m]\u001b[0m\u001b[0;34m\u001b[0m\u001b[0;34m\u001b[0m\u001b[0m\n\u001b[0;32m--> 315\u001b[0;31m             \u001b[0;32myield\u001b[0m \u001b[0;32mfrom\u001b[0m \u001b[0mself\u001b[0m\u001b[0;34m.\u001b[0m\u001b[0m_plot_args\u001b[0m\u001b[0;34m(\u001b[0m\u001b[0mthis\u001b[0m\u001b[0;34m,\u001b[0m \u001b[0mkwargs\u001b[0m\u001b[0;34m)\u001b[0m\u001b[0;34m\u001b[0m\u001b[0;34m\u001b[0m\u001b[0m\n\u001b[0m\u001b[1;32m    316\u001b[0m \u001b[0;34m\u001b[0m\u001b[0m\n\u001b[1;32m    317\u001b[0m     \u001b[0;32mdef\u001b[0m \u001b[0mget_next_color\u001b[0m\u001b[0;34m(\u001b[0m\u001b[0mself\u001b[0m\u001b[0;34m)\u001b[0m\u001b[0;34m:\u001b[0m\u001b[0;34m\u001b[0m\u001b[0;34m\u001b[0m\u001b[0m\n",
      "\u001b[0;32m/usr/local/lib/python3.8/site-packages/matplotlib/axes/_base.py\u001b[0m in \u001b[0;36m_plot_args\u001b[0;34m(self, tup, kwargs, return_kwargs)\u001b[0m\n\u001b[1;32m    499\u001b[0m \u001b[0;34m\u001b[0m\u001b[0m\n\u001b[1;32m    500\u001b[0m         \u001b[0;32mif\u001b[0m \u001b[0mx\u001b[0m\u001b[0;34m.\u001b[0m\u001b[0mshape\u001b[0m\u001b[0;34m[\u001b[0m\u001b[0;36m0\u001b[0m\u001b[0;34m]\u001b[0m \u001b[0;34m!=\u001b[0m \u001b[0my\u001b[0m\u001b[0;34m.\u001b[0m\u001b[0mshape\u001b[0m\u001b[0;34m[\u001b[0m\u001b[0;36m0\u001b[0m\u001b[0;34m]\u001b[0m\u001b[0;34m:\u001b[0m\u001b[0;34m\u001b[0m\u001b[0;34m\u001b[0m\u001b[0m\n\u001b[0;32m--> 501\u001b[0;31m             raise ValueError(f\"x and y must have same first dimension, but \"\n\u001b[0m\u001b[1;32m    502\u001b[0m                              f\"have shapes {x.shape} and {y.shape}\")\n\u001b[1;32m    503\u001b[0m         \u001b[0;32mif\u001b[0m \u001b[0mx\u001b[0m\u001b[0;34m.\u001b[0m\u001b[0mndim\u001b[0m \u001b[0;34m>\u001b[0m \u001b[0;36m2\u001b[0m \u001b[0;32mor\u001b[0m \u001b[0my\u001b[0m\u001b[0;34m.\u001b[0m\u001b[0mndim\u001b[0m \u001b[0;34m>\u001b[0m \u001b[0;36m2\u001b[0m\u001b[0;34m:\u001b[0m\u001b[0;34m\u001b[0m\u001b[0;34m\u001b[0m\u001b[0m\n",
      "\u001b[0;31mValueError\u001b[0m: x and y must have same first dimension, but have shapes (24000,) and (240000,)"
     ]
    },
    {
     "data": {
      "image/png": "[encoded data removed]",
      "text/plain": [
       "<Figure size 432x288 with 1 Axes>"
      ]
     },
     "metadata": {
      "needs_background": "light"
     },
     "output_type": "display_data"
    }
   ],
   "source": [
    "# plot beamformer output for different steering directions\n",
    "target = 45\n",
    "plt.figure()\n",
    "plt.plot(t, y_beamformer[0, :], label='0 deg')\n",
    "plt.plot(t, y_beamformer[target, :], '--', label=str(target) + ' deg')\n",
    "plt.plot(t, y_beamformer[90, :], ':', label='90 deg')\n",
    "\n",
    "\n",
    "plt.xlim([t_initial, t_initial+2*T_pulse])\n",
    "plt.legend()\n",
    "plt.title('Beamformer output for different look directions')\n",
    "\n",
    "\n",
    "# compare beamformer output to center sensor signal\n",
    "plt.figure()\n",
    "plt.plot(t, center_output, label='center(DS of 2 middle mics)')\n",
    "plt.plot(t, y_beamformer[target, :], ':', label='beamf output', color='red')\n",
    "plt.xlim([t_initial, t_initial+2*T_pulse])\n",
    "plt.legend()\n",
    "plt.title('Center sensor vs. beamformer output on desired_direction')\n"
   ]
  },
  {
   "cell_type": "markdown",
   "id": "e1246084",
   "metadata": {},
   "source": [
    "Finally, let us look into the polar response of the beamformer. For convenience, we'll also indicate the plane wave direction of arrival with a red arrow.\n",
    "\n",
    "The polar plot restricts the minimum magnitude below the peak through the variable `dyn_range`. Certain beamformer configurations can lead to the sidelobes disappearing from the image (for example, when the array shading scheme significantly reduces their amplitude), while others can lead to an almost uniform angular response, with a very small main lobe value (for example, when the SNR is low). Make sure to increase or decrease `dyn_range` accordingly."
   ]
  },
  {
   "cell_type": "code",
   "execution_count": 40,
   "id": "84e15c3b",
   "metadata": {},
   "outputs": [
    {
     "name": "stdout",
     "output_type": "stream",
     "text": [
      "(181, 240000)\n",
      "(181,)\n",
      "98.82664655207708\n",
      "[96.52883292 96.5303986  96.53510048 96.54295286 96.55397893 96.56820965\n",
      " 96.58568221 96.60643794 96.6305196  96.65796816 96.68881895 96.72309754\n",
      " 96.76081547 96.80196626 96.84652224 96.89443284 96.94562472 97.00000439\n",
      " 97.05746305 97.11788329 97.18114623 97.24713742 97.31574875 97.38687443\n",
      " 97.46039931 97.53617973 97.61401956 97.69364637 97.77469446 97.85670151\n",
      " 97.93912291 98.02136289 98.10281503 98.1828995  98.26108236 98.33686619\n",
      " 98.40975144 98.47918088 98.54449115 98.60489835 98.65953444 98.70753062\n",
      " 98.74811838 98.78070306 98.80486873 98.82029985 98.82664655 98.82339609\n",
      " 98.8098204  98.78503903 98.74817825 98.6985531  98.63578358 98.55979376\n",
      " 98.47071413 98.36876893 98.25423714 98.12751744 97.98924243 97.84034163\n",
      " 97.68198995 97.51547911 97.34213375 97.16338074 96.98096201 96.79714563\n",
      " 96.61475551 96.43694934 96.26684528 96.10718482 95.96015369 95.82734362\n",
      " 95.70977439 95.6079544  95.52202378 95.45196673 95.39773971 95.35913226\n",
      " 95.33537038 95.32474337 95.32459906 95.33179691 95.34335141 95.35687052\n",
      " 95.37059583 95.38317358 95.39344173 95.40041124 95.40339356 95.40209771\n",
      " 95.39658278 95.3871228  95.37415727 95.35844911 95.34136956 95.32503015\n",
      " 95.31198354 95.30450038 95.30382491 95.30995436 95.3221413  95.33971062\n",
      " 95.36247768 95.39040104 95.42283251 95.45814968 95.49421939 95.52933326\n",
      " 95.56276876 95.59445289 95.62404871 95.65035509 95.67165798 95.68681263\n",
      " 95.69616203 95.70150745 95.70512381 95.70859053 95.71234108 95.71621936\n",
      " 95.72050559 95.72653811 95.73644478 95.75223471 95.77498719 95.80475227\n",
      " 95.84118523 95.88437579 95.93522855 95.99512393 96.06511291 96.14519819\n",
      " 96.2341549  96.32996076 96.43053167 96.53433409 96.64059261 96.74907935\n",
      " 96.85968299 96.97201688 97.08524598 97.19816607 97.30944447 97.41788301\n",
      " 97.52259197 97.62303132 97.7189404  97.81021327 97.89677976 97.978532\n",
      " 98.05530831 98.12692269 98.1932164  98.25410797 98.3096251  98.35991248\n",
      " 98.40521777 98.44586327 98.48221229 98.51463784 98.54349859 98.56912398\n",
      " 98.5918082  98.61181095 98.62936242 98.64467016 98.65792594 98.66931122\n",
      " 98.67900093 98.68716524 98.69396981 98.69957477 98.704133   98.70778795\n",
      " 98.71067148 98.71290183 98.71458181 98.71579737 98.71661644 98.7170881\n",
      " 98.71724201]\n",
      "46\n"
     ]
    },
    {
     "data": {
      "image/png": "[encoded data removed]",
      "text/plain": [
       "<Figure size 432x288 with 1 Axes>"
      ]
     },
     "metadata": {
      "needs_background": "light"
     },
     "output_type": "display_data"
    }
   ],
   "source": [
    "# Create beamformer polar plot\n",
    "'''y_beamformer is of shape {no_steering_dir, no_of_samples}'''\n",
    "print(y_beamformer.shape)\n",
    "# NOTE squaring each element in the beamformer output, and sum by each steering direction (181, 24000) -> (181,)\n",
    "y_beamf_polar = np.sum(y_beamformer**2, axis=1)\n",
    "print(y_beamf_polar.shape)\n",
    "# NOTE converting to dB scale\n",
    "y_beamf_polar_dB = 10*np.log10(y_beamf_polar)\n",
    "# NOTE get max element in the processed BF output\n",
    "dB_max = y_beamf_polar_dB.max()\n",
    "print(dB_max)\n",
    "print(y_beamf_polar_dB)\n",
    "print(np.argmax(y_beamf_polar_dB))\n",
    "# NOTE get the anticipated DoA\n",
    "max_index = np.argmax(y_beamf_polar_dB)\n",
    "\n",
    "# *-*-*-*-*-*-*-*-*-*-*-*-*-*-*-*-*-*-*-*-*-*-*-*-\n",
    "# Polar plot dynamic range\n",
    "\n",
    "dyn_range = 30      # dB\n",
    "# *-*-*-*-*-*-*-*-*-*-*-*-*-*-*-*-*-*-*-*-*-*-*-*-\n",
    "\n",
    "fig = plt.figure()\n",
    "ax = fig.add_subplot(111, polar=True)\n",
    "ax.plot(theta, y_beamf_polar_dB)\n",
    "\n",
    "# NOTE add arrow indicating direction of arrival of signal\n",
    "ax.arrow(max_index*np.pi/180, dB_max-dyn_range, 0, dyn_range, width=0.01,\n",
    "         head_width=0.1, head_length=5,\n",
    "         length_includes_head=True, edgecolor = 'red', facecolor = 'red')\n",
    "\n",
    "ax.set_rmax(dB_max + dyn_range)\n",
    "ax.set_rmin(dB_max - dyn_range)\n",
    "\n",
    "ax.set_thetamin(0)\n",
    "ax.set_thetamax(360)\n",
    "fig.set_tight_layout(True)\n"
   ]
  },
  {
   "cell_type": "markdown",
   "id": "80c1f1bc",
   "metadata": {},
   "source": [
    "And that's it for today! I hope you had fun and learned something :)\n",
    "\n",
    "All the best,\n",
    "\n",
    "Fabio\n"
   ]
  },
  {
   "cell_type": "code",
   "execution_count": 41,
   "id": "76becc3c-13f9-4c3c-a929-f654aaa7bdb9",
   "metadata": {},
   "outputs": [
    {
     "ename": "NameError",
     "evalue": "name 'util' is not defined",
     "output_type": "error",
     "traceback": [
      "\u001b[0;31m---------------------------------------------------------------------------\u001b[0m",
      "\u001b[0;31mNameError\u001b[0m                                 Traceback (most recent call last)",
      "\u001b[0;32m/var/folders/b4/9v8l8lj10fg0_8mj0ts6grc80000gn/T/ipykernel_9531/2579881668.py\u001b[0m in \u001b[0;36m<module>\u001b[0;34m\u001b[0m\n\u001b[0;32m----> 1\u001b[0;31m \u001b[0mutil\u001b[0m\u001b[0;34m.\u001b[0m\u001b[0mplay_audio\u001b[0m\u001b[0;34m(\u001b[0m\u001b[0my_beamf_polar\u001b[0m\u001b[0;34m[\u001b[0m\u001b[0;36m46\u001b[0m\u001b[0;34m]\u001b[0m\u001b[0;34m,\u001b[0m \u001b[0;36m48000\u001b[0m\u001b[0;34m)\u001b[0m\u001b[0;34m\u001b[0m\u001b[0;34m\u001b[0m\u001b[0m\n\u001b[0m",
      "\u001b[0;31mNameError\u001b[0m: name 'util' is not defined"
     ]
    }
   ],
   "source": [
    "util.play_audio(y_beamf_polar[46], 48000)"
   ]
  },
  {
   "cell_type": "code",
   "execution_count": null,
   "id": "0c4fac83-bd0b-45ed-afac-21115e34dd14",
   "metadata": {},
   "outputs": [],
   "source": []
  }
 ],
 "metadata": {
  "interpreter": {
   "hash": "1ee38ef4a5a9feb55287fd749643f13d043cb0a7addaab2a9c224cbe137c0062"
  },
  "kernelspec": {
   "display_name": "Python 3.8.12 64-bit",
   "language": "python",
   "name": "python3"
  },
  "language_info": {
   "codemirror_mode": {
    "name": "ipython",
    "version": 3
   },
   "file_extension": ".py",
   "mimetype": "text/x-python",
   "name": "python",
   "nbconvert_exporter": "python",
   "pygments_lexer": "ipython3",
   "version": "3.8.12"
  }
 },
 "nbformat": 4,
 "nbformat_minor": 5
}
